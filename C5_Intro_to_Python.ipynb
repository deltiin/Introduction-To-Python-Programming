{
  "nbformat": 4,
  "nbformat_minor": 0,
  "metadata": {
    "colab": {
      "name": "C5 Intro to Python.ipynb",
      "private_outputs": true,
      "provenance": [],
      "collapsed_sections": []
    },
    "kernelspec": {
      "name": "python3",
      "display_name": "Python 3"
    }
  },
  "cells": [
    {
      "cell_type": "code",
      "metadata": {
        "id": "6JXn8XhtlpVC"
      },
      "source": [
        "# Clone the entire repo.\n",
        "!git clone -l -s https://github.com/deltiin/Introduction-To-Python-Programming.git cloned-repo\n",
        "%cd cloned-repo\n",
        "!ls"
      ],
      "execution_count": null,
      "outputs": []
    },
    {
      "cell_type": "code",
      "metadata": {
        "id": "Laeqls08ltUR"
      },
      "source": [
        "from IPython.display import Image\n",
        "def page(num):\n",
        "    return Image(\"c5-content/c5PythonProgramming\"+str(num)+ \".png\" , width=640)"
      ],
      "execution_count": null,
      "outputs": []
    },
    {
      "cell_type": "markdown",
      "metadata": {
        "id": "NF8tHH_h0e-0"
      },
      "source": [
        "# **While Loops**\n",
        "\n",
        "While loops are used when you want to repeat a task, but you don't know how many to repeat. \n",
        "<br>\n",
        "A 'while' loop will repeat until a specific condition is true. **bold text**"
      ]
    },
    {
      "cell_type": "code",
      "metadata": {
        "id": "fsAcPkKh0YkH"
      },
      "source": [
        "page(1)"
      ],
      "execution_count": null,
      "outputs": []
    },
    {
      "cell_type": "markdown",
      "metadata": {
        "id": "1bpsiBdgme2P"
      },
      "source": [
        "While loops require an 'escape' from the loop. <br>\n",
        "\n",
        "The first method is to set a counter that is incremented or decremented during each pass through the loop. <br>\n",
        "This is similar to a 'for' loop. \n"
      ]
    },
    {
      "cell_type": "code",
      "metadata": {
        "id": "GzipWRIjmK34"
      },
      "source": [
        "#Example of a while loop with a counter \n",
        "#escape\n",
        "count = 1\n",
        "while count < 10: \n",
        "  print(\"count= \",count)\n",
        "  count = count + 1"
      ],
      "execution_count": null,
      "outputs": []
    },
    {
      "cell_type": "markdown",
      "metadata": {
        "id": "zOkkaxczoZS1"
      },
      "source": [
        "# **Assignment 1**\n",
        "\n",
        "Write code that prints the numbers 10 - 20. "
      ]
    },
    {
      "cell_type": "code",
      "metadata": {
        "id": "glSBTENxpVui"
      },
      "source": [
        "#Assignment 1\n"
      ],
      "execution_count": null,
      "outputs": []
    },
    {
      "cell_type": "markdown",
      "metadata": {
        "id": "oHRuICq6qfNm"
      },
      "source": [
        "# **Assignment #2**\n",
        "Given the following list: \n",
        ">scores = [99, 65, 45, 89, 23,57,90, 72]\n",
        "\n",
        "Use a while loop and print the following: <br>\n",
        "if score is below 70, print the score and \"FAIL\"<br>\n",
        "if score is 70 - 80, print the score and \"C\"<br>\n",
        "if score is 80- 90, print the score and \"B\"<br>\n",
        "if score is more than 90, print the score and \"A\"<br>\n"
      ]
    },
    {
      "cell_type": "code",
      "metadata": {
        "id": "YkFbIdP9FbP6"
      },
      "source": [
        ""
      ],
      "execution_count": null,
      "outputs": []
    },
    {
      "cell_type": "markdown",
      "metadata": {
        "id": "L6LDwpAfm_LF"
      },
      "source": [
        "**Break Statement**<br>\n",
        "A while loop can also have a break statement. When a condition is met, the program leaves the loop at that point in the code. \n"
      ]
    },
    {
      "cell_type": "code",
      "metadata": {
        "id": "1V_eCVdcnTPJ"
      },
      "source": [
        "#Example of a while loop with a counter \n",
        "#escape and a break statement\n",
        "count = 1\n",
        "while count < 10: \n",
        "  if count%5 == 0:\n",
        "    print(\"count= \",count)\n",
        "    break\n",
        "  print(\"count= \",count)\n",
        "  count = count + 1\n"
      ],
      "execution_count": null,
      "outputs": []
    },
    {
      "cell_type": "markdown",
      "metadata": {
        "id": "8iD3FrGxxc10"
      },
      "source": [
        "# **Assignment #3**\n",
        "Given the following list: <br>\n",
        ">numbers = [2,343,654,56,782,875,980,\"6\", 54647,7980,1231,34,453,6454,29,54]\n",
        "<br>\n",
        "Print the numbers. If a non-number is encountered, stop printing the list. "
      ]
    },
    {
      "cell_type": "code",
      "metadata": {
        "id": "uCqCxMmWrJTO"
      },
      "source": [
        "#Assignment #3\n",
        "numbers = [2,343,654,56,782,875,980,\"6\", 54647,7980,1231,34,453,6454,29,54]\n",
        "\n",
        "\n"
      ],
      "execution_count": null,
      "outputs": []
    },
    {
      "cell_type": "markdown",
      "metadata": {
        "id": "qiya0fdVyy00"
      },
      "source": [
        "**While loops can have else statements** <br>\n",
        "These are especially useful when using break statements. "
      ]
    },
    {
      "cell_type": "code",
      "metadata": {
        "id": "L9Nl0ZhezUhw"
      },
      "source": [
        "#Example of while loop with else statement\n",
        "#Collecting 10 integers from the user\n",
        "\n",
        "integers = []\n",
        "i = 0\n",
        "while i < 10: \n",
        "  integer = input(\"enter an integer between 1 - 10: \")\n",
        "  integer_user = int(integer)\n",
        "  if(int(integer_user) > 10):\n",
        "    print(\"Start again\")\n",
        "    break\n",
        "  integers.append(integer_user)\n",
        "  i += 1\n",
        "else:\n",
        "  print(\"Thanks for 10 integers!\")\n",
        "  print(integers)"
      ],
      "execution_count": null,
      "outputs": []
    },
    {
      "cell_type": "markdown",
      "metadata": {
        "id": "39ZdAxapBlwP"
      },
      "source": [
        "# **Assignment #4**\n",
        "1. Create a list of integers by asking the user to enter them. \n",
        "2. When the integer is greater than 20, add it to the list. \n",
        "3. if the number is greater than 50, do not add it to the list. \n",
        "4. When the user has entered at least 10 numbers >20 and <50, stop accepting user input and print the full list.  \n"
      ]
    },
    {
      "cell_type": "code",
      "metadata": {
        "id": "S1sa1DsbC9x6"
      },
      "source": [
        "#Assignment 4"
      ],
      "execution_count": null,
      "outputs": []
    },
    {
      "cell_type": "markdown",
      "metadata": {
        "id": "ZRELy4XSC_tO"
      },
      "source": [
        "**Infinite while loops**<br>\n",
        "Sometimes you don't want to end loop except through a break statement. <br>\n",
        "This is called an infinite loop. "
      ]
    },
    {
      "cell_type": "code",
      "metadata": {
        "id": "soxFSA-yDdMw"
      },
      "source": [
        "#Code example of an infinte loop\n",
        "#This code runs until the user enters\n",
        "#a number larger than 10\n",
        "integers = []\n",
        "while 1 == 1: \n",
        "  integer = input(\"enter an integer between 1 - 10: \")\n",
        "  integer_user = int(integer)\n",
        "  if(int(integer_user) > 10):\n",
        "    print(\"Start again\")\n",
        "    break\n",
        "  else:\n",
        "    integers.append(integer_user)\n",
        "print(integers)\n"
      ],
      "execution_count": null,
      "outputs": []
    },
    {
      "cell_type": "markdown",
      "metadata": {
        "id": "pdeH2PtO33m0"
      },
      "source": [
        "# **Assignment #5**\n",
        "1. Ask the user to enter their favorite foods. \n",
        "2. When the user enters 'q', exit the loop\n",
        "3. Print the list of favorite foods\n",
        "4. Quit the program"
      ]
    },
    {
      "cell_type": "code",
      "metadata": {
        "id": "bDVyBdvz4cIp"
      },
      "source": [
        "#Code example of an infinte loop\n",
        "#This code runs until the user enters 'q'\n"
      ],
      "execution_count": null,
      "outputs": []
    },
    {
      "cell_type": "markdown",
      "metadata": {
        "id": "IICf1CuwsOtc"
      },
      "source": [
        "# **Debug Exercise**\n",
        "The code below has errors, your job is to fix them. "
      ]
    },
    {
      "cell_type": "code",
      "metadata": {
        "id": "1mmP5r_wsOCV"
      },
      "source": [
        "#Program to sort scores into Fail, Pass, Exceptional\n",
        "scores = [2,54,77,83,89,95,21,34,90,54,76,34,76 12,65]\n",
        "passing_scores = []\n",
        "failing_scores = []\n",
        "exceptional_scores = []\n",
        "\n",
        "length = (len)scores\n",
        "print(score)\n",
        "\n",
        "if length < 10:\n",
        "  print(\"There are missing scores\")\n",
        "else:\n",
        "  print(\"Ready to sort\")\n",
        "\n",
        "i = 0\n",
        "while (i > length and length > 10):\n",
        "  if(scores[i] < 90 and scores[i] => 70):\n",
        "    passing_scores.append(scores[i])\n",
        "  elif(scores[i] => 90):\n",
        "    exceptional_scores.append(scores[i])\n",
        "  elif(scores[i]< 70):\n",
        "    failing_scores.append(scores[i])\n",
        "i = i + 1\n",
        "\n",
        "print(\"failing scores: \" failing_scores)\n",
        "print(\"passing scores: \",passing_scores)\n",
        "print(\"exceptional scores: \" exceptional_scores)"
      ],
      "execution_count": null,
      "outputs": []
    }
  ]
}