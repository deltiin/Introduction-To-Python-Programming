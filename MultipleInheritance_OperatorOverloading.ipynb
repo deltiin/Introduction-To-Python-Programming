{
  "nbformat": 4,
  "nbformat_minor": 0,
  "metadata": {
    "colab": {
      "name": "MultipleInheritance_OperatorOverloading.ipynb",
      "provenance": [],
      "authorship_tag": "ABX9TyPQu0R9djK9K01+0AKiON5/",
      "include_colab_link": true
    },
    "kernelspec": {
      "name": "python3",
      "display_name": "Python 3"
    }
  },
  "cells": [
    {
      "cell_type": "markdown",
      "metadata": {
        "id": "view-in-github",
        "colab_type": "text"
      },
      "source": [
        "<a href=\"https://colab.research.google.com/github/deltiin/Introduction-To-Python-Programming/blob/master/MultipleInheritance_OperatorOverloading.ipynb\" target=\"_parent\"><img src=\"https://colab.research.google.com/assets/colab-badge.svg\" alt=\"Open In Colab\"/></a>"
      ]
    },
    {
      "cell_type": "markdown",
      "metadata": {
        "id": "ed1WCi8fNTjJ"
      },
      "source": [
        "#Python OOPS Concepts (Continued)"
      ]
    },
    {
      "cell_type": "code",
      "metadata": {
        "id": "CCRX8GvlmhVl"
      },
      "source": [
        "!wget -nv https://cdn.programiz.com/sites/tutorial2program/files/MultipleInheritance.jpg\r\n",
        "!wget -nv https://www.python-course.eu/images/clock_calendar.png\r\n",
        "!wget -nv https://cdn.programiz.com/sites/tutorial2program/files/MultilevelInheritance.jpg"
      ],
      "execution_count": null,
      "outputs": []
    },
    {
      "cell_type": "code",
      "metadata": {
        "id": "TsMlZAkvmthE"
      },
      "source": [
        "from IPython.display import Image"
      ],
      "execution_count": null,
      "outputs": []
    },
    {
      "cell_type": "markdown",
      "metadata": {
        "id": "WWAeTVAENZoO"
      },
      "source": [
        "#Multiple Inheritance\r\n",
        "A class can be derived from more than one base class in Python, similar to C++. This is called multiple inheritance."
      ]
    },
    {
      "cell_type": "code",
      "metadata": {
        "id": "yHd9OeZYNY4d"
      },
      "source": [
        ""
      ],
      "execution_count": null,
      "outputs": []
    },
    {
      "cell_type": "code",
      "metadata": {
        "id": "aiT5iIP4OJF3"
      },
      "source": [
        "Image('MultipleInheritance.jpg')"
      ],
      "execution_count": null,
      "outputs": []
    },
    {
      "cell_type": "code",
      "metadata": {
        "id": "uPArWZQnUPHl"
      },
      "source": [
        "Image('clock_calendar.png', width=600)"
      ],
      "execution_count": null,
      "outputs": []
    },
    {
      "cell_type": "code",
      "metadata": {
        "id": "soZwOWJMT5it"
      },
      "source": [
        ""
      ],
      "execution_count": null,
      "outputs": []
    },
    {
      "cell_type": "code",
      "metadata": {
        "id": "enLvaO07XX_j"
      },
      "source": [
        ""
      ],
      "execution_count": null,
      "outputs": []
    },
    {
      "cell_type": "code",
      "metadata": {
        "id": "UH1c8d6nOzlX"
      },
      "source": [
        ""
      ],
      "execution_count": null,
      "outputs": []
    },
    {
      "cell_type": "code",
      "metadata": {
        "id": "ScsqW6vRO4p1"
      },
      "source": [
        "Image('MultilevelInheritance.jpg')"
      ],
      "execution_count": null,
      "outputs": []
    },
    {
      "cell_type": "markdown",
      "metadata": {
        "id": "t2xV2IwaQZnW"
      },
      "source": [
        "#Example"
      ]
    },
    {
      "cell_type": "code",
      "metadata": {
        "id": "hCa5I-jqQZGa"
      },
      "source": [
        ""
      ],
      "execution_count": null,
      "outputs": []
    },
    {
      "cell_type": "markdown",
      "metadata": {
        "id": "DhSRWy5POHsa"
      },
      "source": [
        "#Method Resolution Order"
      ]
    },
    {
      "cell_type": "code",
      "metadata": {
        "id": "AH3n9brPPQsR"
      },
      "source": [
        ""
      ],
      "execution_count": null,
      "outputs": []
    },
    {
      "cell_type": "code",
      "metadata": {
        "id": "kISDLq5WP0p0"
      },
      "source": [
        ""
      ],
      "execution_count": null,
      "outputs": []
    },
    {
      "cell_type": "markdown",
      "metadata": {
        "id": "Y7uyME7_bOR4"
      },
      "source": [
        "#Operator Overloading"
      ]
    },
    {
      "cell_type": "code",
      "metadata": {
        "id": "oNEF0gT2bQNM"
      },
      "source": [
        ""
      ],
      "execution_count": null,
      "outputs": []
    },
    {
      "cell_type": "code",
      "metadata": {
        "id": "zEH4FUofcRY0"
      },
      "source": [
        ""
      ],
      "execution_count": null,
      "outputs": []
    },
    {
      "cell_type": "code",
      "metadata": {
        "id": "4OM9Qk4Jcddu"
      },
      "source": [
        ""
      ],
      "execution_count": null,
      "outputs": []
    },
    {
      "cell_type": "code",
      "metadata": {
        "id": "c2ubJShsbgHR"
      },
      "source": [
        ""
      ],
      "execution_count": null,
      "outputs": []
    }
  ]
}