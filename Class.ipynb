{
  "nbformat": 4,
  "nbformat_minor": 0,
  "metadata": {
    "colab": {
      "name": "Class.ipynb",
      "provenance": [],
      "collapsed_sections": [],
      "authorship_tag": "ABX9TyMyX8mMP10w3BpvJqf7WXgF",
      "include_colab_link": true
    },
    "kernelspec": {
      "name": "python3",
      "display_name": "Python 3"
    }
  },
  "cells": [
    {
      "cell_type": "markdown",
      "metadata": {
        "id": "view-in-github",
        "colab_type": "text"
      },
      "source": [
        "<a href=\"https://colab.research.google.com/github/deltiin/Introduction-To-Python-Programming/blob/master/Class.ipynb\" target=\"_parent\"><img src=\"https://colab.research.google.com/assets/colab-badge.svg\" alt=\"Open In Colab\"/></a>"
      ]
    },
    {
      "cell_type": "markdown",
      "metadata": {
        "id": "N2bUm1Dn1S5S"
      },
      "source": [
        "#Python Classes\r\n",
        "Python is an object oriented programming language.\r\n",
        "\r\n",
        "Almost everything in Python is an object, with its properties and methods.\r\n",
        "\r\n",
        "A Class is like an object constructor, or a \"blueprint\" for creating objects."
      ]
    },
    {
      "cell_type": "code",
      "metadata": {
        "id": "Z1wN0e6s2c5H",
        "outputId": "a5a1df6b-4849-4686-a72e-c1fbe4f1a150",
        "colab": {
          "base_uri": "https://localhost:8080/"
        }
      },
      "source": [
        "s = 'Hello World!'\r\n",
        "print(type(s))\r\n",
        "a = 10\r\n",
        "print(type(a))\r\n",
        "b = 3.142\r\n",
        "print(type(b))"
      ],
      "execution_count": 31,
      "outputs": [
        {
          "output_type": "stream",
          "text": [
            "<class 'str'>\n",
            "<class 'int'>\n",
            "<class 'float'>\n"
          ],
          "name": "stdout"
        }
      ]
    },
    {
      "cell_type": "markdown",
      "metadata": {
        "id": "NS5O9AVK23a4"
      },
      "source": [
        "#Class Definition Syntax"
      ]
    },
    {
      "cell_type": "code",
      "metadata": {
        "id": "WBI6M5I222yE"
      },
      "source": [
        "class ClassName:\r\n",
        "  #Statement-1\r\n",
        "  .\r\n",
        "  .\r\n",
        "  .\r\n",
        "  #Statement-N"
      ],
      "execution_count": null,
      "outputs": []
    },
    {
      "cell_type": "markdown",
      "metadata": {
        "id": "R7WNhzkC1U00"
      },
      "source": [
        "#Create a Class\r\n",
        "Create a class named MyClass with property `x`"
      ]
    },
    {
      "cell_type": "code",
      "metadata": {
        "id": "95KmXZQf1kNF",
        "outputId": "24dc3e80-e7cc-4fc6-8ac9-1cf256efd39f",
        "colab": {
          "base_uri": "https://localhost:8080/"
        }
      },
      "source": [
        "class MyClass:\r\n",
        "  x = 12345\r\n",
        "\r\n",
        "y = MyClass()\r\n",
        "print(y.x)"
      ],
      "execution_count": 35,
      "outputs": [
        {
          "output_type": "stream",
          "text": [
            "12345\n"
          ],
          "name": "stdout"
        }
      ]
    },
    {
      "cell_type": "markdown",
      "metadata": {
        "id": "EGkgooRN4KG4"
      },
      "source": [
        "#Properties & Attributes"
      ]
    },
    {
      "cell_type": "code",
      "metadata": {
        "id": "6IIVWRx_1r_9",
        "outputId": "14958224-8ea4-4b91-ff9c-9af2c37ea70b",
        "colab": {
          "base_uri": "https://localhost:8080/"
        }
      },
      "source": [
        "class MyClass:\r\n",
        "  i = 2\r\n",
        "  j = 3.142\r\n",
        "  k = 'This is a class'\r\n",
        "\r\n",
        "x = MyClass()\r\n",
        "print(x.i)\r\n",
        "print(x.j)\r\n",
        "print(x.k)\r\n",
        "print(x)"
      ],
      "execution_count": 37,
      "outputs": [
        {
          "output_type": "stream",
          "text": [
            "2\n",
            "3.142\n",
            "This is a class\n",
            "<__main__.MyClass object at 0x7f2a45551f60>\n"
          ],
          "name": "stdout"
        }
      ]
    },
    {
      "cell_type": "code",
      "metadata": {
        "id": "b_4tBwhqm8f4",
        "outputId": "61b6e4ea-d420-4618-9bbc-2e71dcc5e3d6",
        "colab": {
          "base_uri": "https://localhost:8080/"
        }
      },
      "source": [
        "class MyClass:\r\n",
        "  i = 2\r\n",
        "  j = 3.142\r\n",
        "  \r\n",
        "  def foo(self):\r\n",
        "    print('foo')\r\n",
        "  \r\n",
        "x = MyClass()\r\n",
        "x.foo()"
      ],
      "execution_count": 58,
      "outputs": [
        {
          "output_type": "stream",
          "text": [
            "foo\n"
          ],
          "name": "stdout"
        }
      ]
    },
    {
      "cell_type": "markdown",
      "metadata": {
        "id": "fn7y8qUy4z21"
      },
      "source": [
        "#\\_\\_init\\_\\_ Method"
      ]
    },
    {
      "cell_type": "code",
      "metadata": {
        "id": "RalmIJci422x",
        "outputId": "37c98b3c-5172-4fd8-99cb-332e68361738",
        "colab": {
          "base_uri": "https://localhost:8080/"
        }
      },
      "source": [
        "class MyClass:\r\n",
        "  def __init__(self):\r\n",
        "    print('Printing this statement at class initialization')\r\n",
        "    print('Statement 2')\r\n",
        "    for c in range(1,5):\r\n",
        "      print(c)\r\n",
        "\r\n",
        "x = MyClass()"
      ],
      "execution_count": 43,
      "outputs": [
        {
          "output_type": "stream",
          "text": [
            "Printing this statement at class initialization\n",
            "Statement 2\n",
            "1\n",
            "2\n",
            "3\n",
            "4\n"
          ],
          "name": "stdout"
        }
      ]
    },
    {
      "cell_type": "code",
      "metadata": {
        "id": "4xKNtvX65xnu",
        "outputId": "5bb8399c-8aad-4e77-c5d2-71a00dedc588",
        "colab": {
          "base_uri": "https://localhost:8080/"
        }
      },
      "source": [
        "class MyClass:\r\n",
        "  def __init__(self,var1, var2):\r\n",
        "    print('Printing this statement at class initialization')\r\n",
        "    print('var1: ', var1)\r\n",
        "    print('var2:', var2)\r\n",
        "\r\n",
        "x = MyClass(3.142, 'Hello World!')"
      ],
      "execution_count": 47,
      "outputs": [
        {
          "output_type": "stream",
          "text": [
            "Printing this statement at class initialization\n",
            "var1:  3.142\n",
            "var2: Hello World!\n"
          ],
          "name": "stdout"
        }
      ]
    },
    {
      "cell_type": "markdown",
      "metadata": {
        "id": "1WCTXn4eDion"
      },
      "source": [
        "#Class & Instance Variables"
      ]
    },
    {
      "cell_type": "code",
      "metadata": {
        "id": "WIA8OZJp8WpL",
        "outputId": "d3e11f69-7d20-4035-e136-1764afc0efb3",
        "colab": {
          "base_uri": "https://localhost:8080/"
        }
      },
      "source": [
        "class Dog:\r\n",
        "  species = 'canine' #Class variable\r\n",
        "\r\n",
        "  def __init__(self, name):\r\n",
        "    self.name = name # Instance variable\r\n",
        "    #print('Name: ', name)\r\n",
        "\r\n",
        "d1 = Dog('Goofy')\r\n",
        "d2 = Dog('Scooby')\r\n",
        "d3 = Dog('Tommy')\r\n",
        "print(d1.name)\r\n",
        "print(d1.species)\r\n",
        "print(d2.name)\r\n",
        "print(d2.species)\r\n",
        "print(d3.species)"
      ],
      "execution_count": 55,
      "outputs": [
        {
          "output_type": "stream",
          "text": [
            "Goofy\n",
            "canine\n",
            "Scooby\n",
            "canine\n",
            "canine\n"
          ],
          "name": "stdout"
        }
      ]
    },
    {
      "cell_type": "markdown",
      "metadata": {
        "id": "u5dQGIgeC9Bv"
      },
      "source": [
        "#Class Example 1"
      ]
    },
    {
      "cell_type": "code",
      "metadata": {
        "id": "GUZxHmuNB3i6",
        "outputId": "f7785eb4-4470-4671-e882-40fe6a7bb57e",
        "colab": {
          "base_uri": "https://localhost:8080/"
        }
      },
      "source": [
        "class Person:\r\n",
        "  species = 'homo sapien'\r\n",
        "  def __init__(self, name, age):\r\n",
        "    self.name = name\r\n",
        "    self.age = age\r\n",
        "  \r\n",
        "  def print_name(self):\r\n",
        "    print('My name is', self.name)\r\n",
        "  \r\n",
        "  def print_age(self):\r\n",
        "    print('My age is', self.age)\r\n",
        "\r\n",
        "p1 = Person('Mark',40)\r\n",
        "p1.print_name()\r\n",
        "p1.print_age()"
      ],
      "execution_count": 68,
      "outputs": [
        {
          "output_type": "stream",
          "text": [
            "My name is Mark\n",
            "My age is 40\n"
          ],
          "name": "stdout"
        }
      ]
    },
    {
      "cell_type": "code",
      "metadata": {
        "id": "fPBAUNDkB-I0",
        "outputId": "8f2e99e6-062a-474e-f683-0e2e4bc54f5b",
        "colab": {
          "base_uri": "https://localhost:8080/"
        }
      },
      "source": [
        "class Person:\r\n",
        "  species = 'homo sapien'\r\n",
        "  def __init__(self, name, age):\r\n",
        "    self.name = name\r\n",
        "    self.age = age\r\n",
        "  \r\n",
        "  def print_name(self):\r\n",
        "    print('My name is', self.name)\r\n",
        "  \r\n",
        "  def print_age(self):\r\n",
        "    print('My age is', self.age)\r\n",
        "\r\n",
        "p1 = Person('Mark',40)\r\n",
        "print(p1.name, p1.age)\r\n",
        "p1.name = 'John'\r\n",
        "p1.age = 25\r\n",
        "print(p1.name, p1.age)"
      ],
      "execution_count": 71,
      "outputs": [
        {
          "output_type": "stream",
          "text": [
            "Mark 40\n",
            "John 25\n"
          ],
          "name": "stdout"
        }
      ]
    },
    {
      "cell_type": "code",
      "metadata": {
        "id": "p4B7RJGqCuNo",
        "outputId": "681ad150-e33e-4a96-9d21-77c9c45bc1f1",
        "colab": {
          "base_uri": "https://localhost:8080/"
        }
      },
      "source": [
        "#Delete Object Property from p1 object\r\n",
        "print(p1.name, p1.age)\r\n",
        "del p1.age"
      ],
      "execution_count": 73,
      "outputs": [
        {
          "output_type": "stream",
          "text": [
            "John 25\n"
          ],
          "name": "stdout"
        }
      ]
    },
    {
      "cell_type": "code",
      "metadata": {
        "id": "cbr9bv0Jw0IO",
        "outputId": "fcdb567c-a92a-4c5e-c735-0dbd9a4527d5",
        "colab": {
          "base_uri": "https://localhost:8080/",
          "height": 279
        }
      },
      "source": [
        "p1.print_age()"
      ],
      "execution_count": 74,
      "outputs": [
        {
          "output_type": "error",
          "ename": "AttributeError",
          "evalue": "ignored",
          "traceback": [
            "\u001b[0;31m---------------------------------------------------------------------------\u001b[0m",
            "\u001b[0;31mAttributeError\u001b[0m                            Traceback (most recent call last)",
            "\u001b[0;32m<ipython-input-74-35e97302defc>\u001b[0m in \u001b[0;36m<module>\u001b[0;34m()\u001b[0m\n\u001b[0;32m----> 1\u001b[0;31m \u001b[0mp1\u001b[0m\u001b[0;34m.\u001b[0m\u001b[0mprint_age\u001b[0m\u001b[0;34m(\u001b[0m\u001b[0;34m)\u001b[0m\u001b[0;34m\u001b[0m\u001b[0;34m\u001b[0m\u001b[0m\n\u001b[0m",
            "\u001b[0;32m<ipython-input-71-720621416962>\u001b[0m in \u001b[0;36mprint_age\u001b[0;34m(self)\u001b[0m\n\u001b[1;32m      9\u001b[0m \u001b[0;34m\u001b[0m\u001b[0m\n\u001b[1;32m     10\u001b[0m   \u001b[0;32mdef\u001b[0m \u001b[0mprint_age\u001b[0m\u001b[0;34m(\u001b[0m\u001b[0mself\u001b[0m\u001b[0;34m)\u001b[0m\u001b[0;34m:\u001b[0m\u001b[0;34m\u001b[0m\u001b[0;34m\u001b[0m\u001b[0m\n\u001b[0;32m---> 11\u001b[0;31m     \u001b[0mprint\u001b[0m\u001b[0;34m(\u001b[0m\u001b[0;34m'My age is'\u001b[0m\u001b[0;34m,\u001b[0m \u001b[0mself\u001b[0m\u001b[0;34m.\u001b[0m\u001b[0mage\u001b[0m\u001b[0;34m)\u001b[0m\u001b[0;34m\u001b[0m\u001b[0;34m\u001b[0m\u001b[0m\n\u001b[0m\u001b[1;32m     12\u001b[0m \u001b[0;34m\u001b[0m\u001b[0m\n\u001b[1;32m     13\u001b[0m \u001b[0mp1\u001b[0m \u001b[0;34m=\u001b[0m \u001b[0mPerson\u001b[0m\u001b[0;34m(\u001b[0m\u001b[0;34m'Mark'\u001b[0m\u001b[0;34m,\u001b[0m\u001b[0;36m40\u001b[0m\u001b[0;34m)\u001b[0m\u001b[0;34m\u001b[0m\u001b[0;34m\u001b[0m\u001b[0m\n",
            "\u001b[0;31mAttributeError\u001b[0m: 'Person' object has no attribute 'age'"
          ]
        }
      ]
    },
    {
      "cell_type": "markdown",
      "metadata": {
        "id": "OV_tNbCtDBXB"
      },
      "source": [
        "#Class Example 2"
      ]
    },
    {
      "cell_type": "code",
      "metadata": {
        "id": "9xWW_INO6E4F",
        "outputId": "1751310a-a5de-438d-ee28-ac8550f8d02f",
        "colab": {
          "base_uri": "https://localhost:8080/"
        }
      },
      "source": [
        "class Complex:\r\n",
        "  def __init__(self, realpart, imagpart):\r\n",
        "    self.r = realpart\r\n",
        "    self.i = imagpart\r\n",
        "\r\n",
        "x = Complex(2.0, -1.5)\r\n",
        "print(x.r)\r\n",
        "print(x.i)"
      ],
      "execution_count": 80,
      "outputs": [
        {
          "output_type": "stream",
          "text": [
            "2.0\n",
            "-1.5\n"
          ],
          "name": "stdout"
        }
      ]
    },
    {
      "cell_type": "code",
      "metadata": {
        "id": "X9FWJMcm63yS",
        "outputId": "5a656e64-8343-4ecc-9264-e3bf30981724",
        "colab": {
          "base_uri": "https://localhost:8080/"
        }
      },
      "source": [
        "class Complex:\r\n",
        "  def __init__(self, realpart, imagpart):\r\n",
        "    self.r = realpart\r\n",
        "    self.i = imagpart\r\n",
        "  \r\n",
        "  def abs_value(self):\r\n",
        "    z = (self.r**2+self.i**2)**0.5\r\n",
        "    return z\r\n",
        "\r\n",
        "  def print_value(self):\r\n",
        "    print('{} + {}i'.format(self.r, self.i))\r\n",
        "\r\n",
        "x = Complex(3.0, 4.0)\r\n",
        "print(x.r)\r\n",
        "print(x.i)\r\n",
        "a = x.abs_value()\r\n",
        "print(a)\r\n",
        "x.print_value()\r\n",
        "x.r = 10\r\n",
        "x.print_value()"
      ],
      "execution_count": 84,
      "outputs": [
        {
          "output_type": "stream",
          "text": [
            "3.0\n",
            "4.0\n",
            "5.0\n",
            "3.0 + 4.0i\n",
            "10 + 4.0i\n"
          ],
          "name": "stdout"
        }
      ]
    },
    {
      "cell_type": "code",
      "metadata": {
        "id": "e0smFDPvIILC",
        "outputId": "e7be15c0-a8f5-4283-e131-9fad37261abe",
        "colab": {
          "base_uri": "https://localhost:8080/"
        }
      },
      "source": [
        "#Detailed explanation of class varaible\r\n",
        "class Employee:\r\n",
        "  employee_count = 0\r\n",
        "\r\n",
        "  def __init__(self, name, salary):\r\n",
        "    self.name = name\r\n",
        "    self.salary = salary\r\n",
        "    Employee.employee_count +=1\r\n",
        "  \r\n",
        "  def display_employee_count(self):\r\n",
        "    print('The total employees are', Employee.employee_count)\r\n",
        "\r\n",
        "  def display_employee(self):\r\n",
        "    print('Employee Name: {}, Salary: {}'.format(self.name, self.salary))\r\n",
        "\r\n",
        "e1 = Employee('John',2000)\r\n",
        "print(e1.employee_count)\r\n",
        "e1.display_employee()\r\n",
        "e1.display_employee_count()\r\n",
        "e2 = Employee('Mark', 3000)\r\n",
        "print(e2.employee_count)\r\n",
        "e2.display_employee()\r\n",
        "e2.display_employee_count()\r\n"
      ],
      "execution_count": 93,
      "outputs": [
        {
          "output_type": "stream",
          "text": [
            "1\n",
            "Employee Name: John, Salary: 2000\n",
            "The total employees are 1\n",
            "2\n",
            "Employee Name: Mark, Salary: 3000\n",
            "The total employees are 2\n"
          ],
          "name": "stdout"
        }
      ]
    },
    {
      "cell_type": "markdown",
      "metadata": {
        "id": "3klEIJ0xF_AE"
      },
      "source": [
        "#Assignment 1\r\n",
        "Write a class named `BankAccount` for storing the details of a customer.<br>\r\n",
        "Add following class variables:\r\n",
        "* `bank_name` = 'HDFC'\r\n",
        "\r\n",
        "Add following instance variables:\r\n",
        "* `name`\r\n",
        "* `age`\r\n",
        "* `gender`\r\n",
        "* `account_no`\r\n",
        "* `acount_balance`\r\n",
        "\r\n",
        "Add following class methods:\r\n",
        "* display account information\r\n",
        "* deposit money\r\n",
        "* withdraw money \r\n",
        "\r\n",
        "\r\n",
        "\r\n",
        "\r\n"
      ]
    },
    {
      "cell_type": "code",
      "metadata": {
        "id": "aOTbvWwXF-Q1",
        "outputId": "1408e8eb-5117-4ace-d910-b124ca8d2988",
        "colab": {
          "base_uri": "https://localhost:8080/"
        }
      },
      "source": [
        "#Assignment 1\r\n",
        "#TO DO\r\n",
        "class BankAccount:\r\n",
        "  bank_name = 'HDFC'\r\n",
        "\r\n",
        "  def __init__(self, name, age, gender, account_no, account_balance):\r\n",
        "    self.name = name\r\n",
        "    self.age = age\r\n",
        "    self.gender = gender\r\n",
        "    self.account_no = account_no\r\n",
        "    self.account_balance = account_balance\r\n",
        "\r\n",
        "  def display_account_info(self):\r\n",
        "    print('Name of Account Holder:', self.name)\r\n",
        "    print('Age:', self.age)\r\n",
        "    print('Gender:', self.gender)\r\n",
        "    print('Account No:', self.account_no)\r\n",
        "    print('Account Balance:', self.account_balance)\r\n",
        "\r\n",
        "  def deposit_money(self, amount):\r\n",
        "    self.account_balance += amount\r\n",
        "    print('{} amount has been deposited to the account'.format(amount))\r\n",
        "    print('Your current balance is {}'.format(self.account_balance))\r\n",
        "\r\n",
        "  def withdraw_money(self, amount):\r\n",
        "    self.account_balance -= amount\r\n",
        "    print('{} amount has been withdrawn to the account'.format(amount))\r\n",
        "    print('Your current balance is {}'.format(self.account_balance))\r\n",
        "\r\n",
        "a1 = BankAccount('John', 25, 'Male', 123456789, 500)\r\n",
        "a1.display_account_info()\r\n",
        "a1.deposit_money(100)"
      ],
      "execution_count": 100,
      "outputs": [
        {
          "output_type": "stream",
          "text": [
            "Name of Account Holder: John\n",
            "Age: 25\n",
            "Gender: Male\n",
            "Account No: 123456789\n",
            "Account Balance: 500\n",
            "100 amount has been deposited to the account\n",
            "Your current balance is 600\n"
          ],
          "name": "stdout"
        }
      ]
    },
    {
      "cell_type": "code",
      "metadata": {
        "id": "V4ogX6P64pDn",
        "outputId": "7fe419c7-c074-490f-fda1-650ee8e82e23",
        "colab": {
          "base_uri": "https://localhost:8080/"
        }
      },
      "source": [
        "a1.withdraw_money(50)"
      ],
      "execution_count": 102,
      "outputs": [
        {
          "output_type": "stream",
          "text": [
            "50 amount has been withdrawn to the account\n",
            "Your current balance is 550\n"
          ],
          "name": "stdout"
        }
      ]
    },
    {
      "cell_type": "markdown",
      "metadata": {
        "id": "wdaLsnplIsdR"
      },
      "source": [
        "#Built-In Class Attributes\r\n",
        "* \\_\\_dict_\\_ − Dictionary containing the class's namespace.\r\n",
        "\r\n",
        "* \\_\\_doc_\\_ − Class documentation string or none, if undefined.\r\n"
      ]
    },
    {
      "cell_type": "code",
      "metadata": {
        "id": "4kBRQSiqIr0E",
        "outputId": "614f0562-581c-4161-d6b4-0b86a37dd62a",
        "colab": {
          "base_uri": "https://localhost:8080/"
        }
      },
      "source": [
        "class Complex:\r\n",
        "  '''This a copmlex number class\r\n",
        "  param: r: realpart\r\n",
        "  param: i: imagpart\r\n",
        "  '''\r\n",
        "  c = 0\r\n",
        "  def __init__(self, realpart, imagpart):\r\n",
        "    self.r = realpart\r\n",
        "    self.i = imagpart\r\n",
        "\r\n",
        "x = Complex(2.0, -1.5)\r\n",
        "print(x.__dict__)\r\n",
        "x = Complex(4.0, 3.0)\r\n",
        "print(x.__dict__)\r\n",
        "print(x.__doc__)"
      ],
      "execution_count": 108,
      "outputs": [
        {
          "output_type": "stream",
          "text": [
            "{'r': 2.0, 'i': -1.5}\n",
            "{'r': 4.0, 'i': 3.0}\n",
            "This a copmlex number class\n",
            "  param: r: realpart\n",
            "  param: i: imagpart\n",
            "  \n"
          ],
          "name": "stdout"
        }
      ]
    },
    {
      "cell_type": "markdown",
      "metadata": {
        "id": "jDWirVSDKAQA"
      },
      "source": [
        "#Inheritance\r\n",
        "**Inheritance** allows us to define a class that inherits all the methods and properties from another class.\r\n",
        "\r\n",
        "**Parent** class is the class being inherited from, also called base class.\r\n",
        "\r\n",
        "**Child** class is the class that inherits from another class, also called derived class."
      ]
    },
    {
      "cell_type": "markdown",
      "metadata": {
        "id": "EQuqRKOjKLO2"
      },
      "source": [
        "Create a Parent Class"
      ]
    },
    {
      "cell_type": "code",
      "metadata": {
        "id": "1n07HnKBJ_vk",
        "outputId": "d207fa38-ee4b-42e2-f29d-54e28c450eb7",
        "colab": {
          "base_uri": "https://localhost:8080/"
        }
      },
      "source": [
        "class Person:\r\n",
        "  def __init__(self, fname, lname):\r\n",
        "    self.firstname = fname\r\n",
        "    self.lastname = lname\r\n",
        "\r\n",
        "  def printname(self):\r\n",
        "    print(self.firstname, self.lastname)\r\n",
        "\r\n",
        "p1 = Person('Johnny', 'Depp')\r\n",
        "p1.printname()"
      ],
      "execution_count": 110,
      "outputs": [
        {
          "output_type": "stream",
          "text": [
            "Johnny Depp\n"
          ],
          "name": "stdout"
        }
      ]
    },
    {
      "cell_type": "markdown",
      "metadata": {
        "id": "XweZobQvKOO_"
      },
      "source": [
        "Create a Child Class"
      ]
    },
    {
      "cell_type": "code",
      "metadata": {
        "id": "OSRZz9wLKStR"
      },
      "source": [
        "class Student(Person):\r\n",
        "  pass"
      ],
      "execution_count": 120,
      "outputs": []
    },
    {
      "cell_type": "code",
      "metadata": {
        "id": "ONmUEQFZKiZR",
        "outputId": "ab5898b2-7eb4-44d8-deed-91f39b9ababc",
        "colab": {
          "base_uri": "https://localhost:8080/"
        }
      },
      "source": [
        "x = Student('Johnny', 'Depp')\r\n",
        "x.__dict__\r\n",
        "# x.printname()"
      ],
      "execution_count": 121,
      "outputs": [
        {
          "output_type": "execute_result",
          "data": {
            "text/plain": [
              "{'firstname': 'Johnny', 'lastname': 'Depp'}"
            ]
          },
          "metadata": {
            "tags": []
          },
          "execution_count": 121
        }
      ]
    },
    {
      "cell_type": "markdown",
      "metadata": {
        "id": "IhZMSmeVKVZy"
      },
      "source": [
        "Add the \\_\\_init\\_\\_() Function"
      ]
    },
    {
      "cell_type": "markdown",
      "metadata": {
        "id": "glmbgL1SK8Jg"
      },
      "source": [
        "When you add the \\_\\_init\\_\\_() function, the child class will no longer inherit the parent's \\_\\_init\\_\\_() function."
      ]
    },
    {
      "cell_type": "code",
      "metadata": {
        "id": "PUa1lg3LK7eV",
        "outputId": "5e5a902b-4f9c-4fd2-c072-6aacd060736e",
        "colab": {
          "base_uri": "https://localhost:8080/"
        }
      },
      "source": [
        "class Student(Person):\r\n",
        "  def __init__(self, fname, lname):\r\n",
        "    self.firstname = fname\r\n",
        "    self.lastname = lname\r\n",
        "\r\n",
        "x = Student('Johnny', 'Depp')\r\n",
        "x.__dict__\r\n",
        "x.printname()"
      ],
      "execution_count": 123,
      "outputs": [
        {
          "output_type": "stream",
          "text": [
            "Johnny Depp\n"
          ],
          "name": "stdout"
        }
      ]
    },
    {
      "cell_type": "markdown",
      "metadata": {
        "id": "Yg-p82lDLOo_"
      },
      "source": [
        "#Use the super() Function\r\n",
        "Python also has a super() function that will make the child class inherit all the methods and properties from its parent:"
      ]
    },
    {
      "cell_type": "code",
      "metadata": {
        "id": "eNkROA3VLU5b",
        "outputId": "393e07b7-73bc-43f4-f009-687d80db5762",
        "colab": {
          "base_uri": "https://localhost:8080/"
        }
      },
      "source": [
        "class Student(Person):\r\n",
        "  def __init__(self, fname, lname):\r\n",
        "    super().__init__(fname, lname)\r\n",
        "\r\n",
        "x = Student('Tony', 'Stark')\r\n",
        "x.printname()"
      ],
      "execution_count": 124,
      "outputs": [
        {
          "output_type": "stream",
          "text": [
            "Tony Stark\n"
          ],
          "name": "stdout"
        }
      ]
    },
    {
      "cell_type": "markdown",
      "metadata": {
        "id": "bu-wFzHkLpdN"
      },
      "source": [
        "#Add Properties\r\n"
      ]
    },
    {
      "cell_type": "code",
      "metadata": {
        "id": "B6aNI-O4LqLo",
        "outputId": "6fa5b659-1aec-43c5-ad17-c493432b81da",
        "colab": {
          "base_uri": "https://localhost:8080/"
        }
      },
      "source": [
        "class Student(Person):\r\n",
        "  def __init__(self, fname, lname):\r\n",
        "    super().__init__(fname, lname)\r\n",
        "    self.rollno = 45\r\n",
        "\r\n",
        "x = Student('Tony', 'Stark')\r\n",
        "x.__dict__"
      ],
      "execution_count": 126,
      "outputs": [
        {
          "output_type": "execute_result",
          "data": {
            "text/plain": [
              "{'firstname': 'Tony', 'lastname': 'Stark', 'rollno': 45}"
            ]
          },
          "metadata": {
            "tags": []
          },
          "execution_count": 126
        }
      ]
    },
    {
      "cell_type": "code",
      "metadata": {
        "id": "TVqYuV9_Lsal"
      },
      "source": [
        ""
      ],
      "execution_count": null,
      "outputs": []
    },
    {
      "cell_type": "markdown",
      "metadata": {
        "id": "yGZiU9W8LxBP"
      },
      "source": [
        "#Add Methods\r\n"
      ]
    },
    {
      "cell_type": "code",
      "metadata": {
        "id": "GsZVAPv0LxvQ",
        "outputId": "7dafc3b3-93a6-4239-f398-7827b7e1aa55",
        "colab": {
          "base_uri": "https://localhost:8080/"
        }
      },
      "source": [
        "class Student(Person):\r\n",
        "  def __init__(self, fname, lname, rno):\r\n",
        "    super().__init__(fname, lname)\r\n",
        "    self.rollno = rno\r\n",
        "  \r\n",
        "  def print_info(self):\r\n",
        "    print('First Name',self.firstname)\r\n",
        "    print('Last Name',self.lastname)\r\n",
        "    print('Roll No',self.rollno)\r\n",
        "\r\n",
        "x = Student('Tony', 'Stark', 65)\r\n",
        "print(x.__dict__)\r\n",
        "x.print_info()"
      ],
      "execution_count": 130,
      "outputs": [
        {
          "output_type": "stream",
          "text": [
            "{'firstname': 'Tony', 'lastname': 'Stark', 'rollno': 65}\n",
            "First Name Tony\n",
            "Last Name Stark\n",
            "Roll No 65\n"
          ],
          "name": "stdout"
        }
      ]
    }
  ]
}