{
  "nbformat": 4,
  "nbformat_minor": 0,
  "metadata": {
    "colab": {
      "name": "Class.ipynb",
      "provenance": [],
      "authorship_tag": "ABX9TyNkWm+M1mGKNSLPiwTToI79",
      "include_colab_link": true
    },
    "kernelspec": {
      "name": "python3",
      "display_name": "Python 3"
    }
  },
  "cells": [
    {
      "cell_type": "markdown",
      "metadata": {
        "id": "view-in-github",
        "colab_type": "text"
      },
      "source": [
        "<a href=\"https://colab.research.google.com/github/deltiin/Introduction-To-Python-Programming/blob/master/Class.ipynb\" target=\"_parent\"><img src=\"https://colab.research.google.com/assets/colab-badge.svg\" alt=\"Open In Colab\"/></a>"
      ]
    },
    {
      "cell_type": "markdown",
      "metadata": {
        "id": "N2bUm1Dn1S5S"
      },
      "source": [
        "#Python Classes\r\n",
        "Python is an object oriented programming language.\r\n",
        "\r\n",
        "Almost everything in Python is an object, with its properties and methods.\r\n",
        "\r\n",
        "A Class is like an object constructor, or a \"blueprint\" for creating objects."
      ]
    },
    {
      "cell_type": "code",
      "metadata": {
        "colab": {
          "base_uri": "https://localhost:8080/"
        },
        "id": "Z1wN0e6s2c5H",
        "outputId": "88a94e1f-73d7-4c82-dee5-d5eef1fd62d1"
      },
      "source": [
        "s = 'Hello World!'\r\n",
        "print(type(s))\r\n",
        "a = 10\r\n",
        "print(type(a))\r\n",
        "b = 3.142\r\n",
        "print(type(b))"
      ],
      "execution_count": 5,
      "outputs": [
        {
          "output_type": "stream",
          "text": [
            "<class 'str'>\n",
            "<class 'int'>\n",
            "<class 'float'>\n"
          ],
          "name": "stdout"
        }
      ]
    },
    {
      "cell_type": "markdown",
      "metadata": {
        "id": "NS5O9AVK23a4"
      },
      "source": [
        "#Class Definition Syntax"
      ]
    },
    {
      "cell_type": "code",
      "metadata": {
        "id": "WBI6M5I222yE"
      },
      "source": [
        "class ClassName:\r\n",
        "  #Statement-1\r\n",
        "  .\r\n",
        "  .\r\n",
        "  .\r\n",
        "  #Statement-N"
      ],
      "execution_count": null,
      "outputs": []
    },
    {
      "cell_type": "markdown",
      "metadata": {
        "id": "R7WNhzkC1U00"
      },
      "source": [
        "#Create a Class\r\n",
        "Create a class named MyClass with property `x`"
      ]
    },
    {
      "cell_type": "code",
      "metadata": {
        "colab": {
          "base_uri": "https://localhost:8080/"
        },
        "id": "95KmXZQf1kNF",
        "outputId": "2f0bb910-c163-4d1a-a5dd-fb547e15f5cf"
      },
      "source": [
        "class MyClass:\r\n",
        "  i = 12345 #x is called as a property\r\n",
        "\r\n",
        "'''\r\n",
        "creates a new instance of the \r\n",
        "class and assigns this object \r\n",
        "to the local variable x.\r\n",
        "'''\r\n",
        "x = MyClass() #x is a local variable which is instance of MyClass\r\n",
        "print(x.i)\r\n",
        "print(type(c))"
      ],
      "execution_count": 7,
      "outputs": [
        {
          "output_type": "stream",
          "text": [
            "12345\n",
            "<class '__main__.MyClass'>\n"
          ],
          "name": "stdout"
        }
      ]
    },
    {
      "cell_type": "markdown",
      "metadata": {
        "id": "EGkgooRN4KG4"
      },
      "source": [
        "#Properties & Attributes"
      ]
    },
    {
      "cell_type": "code",
      "metadata": {
        "colab": {
          "base_uri": "https://localhost:8080/"
        },
        "id": "6IIVWRx_1r_9",
        "outputId": "11d5c66a-313a-4265-db68-29c786a36f9f"
      },
      "source": [
        "class MyClass:\r\n",
        "  '''\r\n",
        "  i, j , k are the properties or attributes which belong to MyClass\r\n",
        "  '''\r\n",
        "  i = 1\r\n",
        "  j = 3.142\r\n",
        "  k = 'This is a Class'\r\n",
        "\r\n",
        "x = MyClass()\r\n",
        "print(x.i)\r\n",
        "print(x.j)\r\n",
        "print(x.k)"
      ],
      "execution_count": 9,
      "outputs": [
        {
          "output_type": "stream",
          "text": [
            "1\n",
            "3.142\n",
            "This is a Class\n"
          ],
          "name": "stdout"
        }
      ]
    },
    {
      "cell_type": "markdown",
      "metadata": {
        "id": "fn7y8qUy4z21"
      },
      "source": [
        "#init Method"
      ]
    },
    {
      "cell_type": "code",
      "metadata": {
        "colab": {
          "base_uri": "https://localhost:8080/"
        },
        "id": "RalmIJci422x",
        "outputId": "1f001c6f-6c89-4d31-e765-1f3cfeca6281"
      },
      "source": [
        "class MyClass:\r\n",
        "  def __init__(self):\r\n",
        "    print('Printing this statement at class instantiation')\r\n",
        "\r\n",
        "x = MyClass()"
      ],
      "execution_count": 12,
      "outputs": [
        {
          "output_type": "stream",
          "text": [
            "Printing this statement at class instantiation\n"
          ],
          "name": "stdout"
        }
      ]
    },
    {
      "cell_type": "code",
      "metadata": {
        "colab": {
          "base_uri": "https://localhost:8080/"
        },
        "id": "4xKNtvX65xnu",
        "outputId": "ea4e349c-c864-4a01-8ee2-a24e4cb96c1c"
      },
      "source": [
        "class MyClass:\r\n",
        "  def __init__(self, var1):\r\n",
        "    print('Printing this statement at class instantiation')\r\n",
        "    print('var1:', var1)\r\n",
        "\r\n",
        "# x = MyClass()\r\n",
        "x = MyClass('Hello World!')"
      ],
      "execution_count": 17,
      "outputs": [
        {
          "output_type": "stream",
          "text": [
            "Printing this statement at class instantiation\n",
            "var1: Hello World!\n"
          ],
          "name": "stdout"
        }
      ]
    },
    {
      "cell_type": "code",
      "metadata": {
        "colab": {
          "base_uri": "https://localhost:8080/"
        },
        "id": "9xWW_INO6E4F",
        "outputId": "71bfb514-c10d-45db-e9f9-6c42770a7f65"
      },
      "source": [
        "class Complex:\r\n",
        "  def __init__(self, realpart, imagpart):\r\n",
        "    self.r = realpart\r\n",
        "    self.i = imagpart\r\n",
        "\r\n",
        "x = Complex(2.0, -1.5)\r\n",
        "print(x.r)\r\n",
        "print(x.i)"
      ],
      "execution_count": 21,
      "outputs": [
        {
          "output_type": "stream",
          "text": [
            "2.0\n",
            "-1.5\n"
          ],
          "name": "stdout"
        }
      ]
    },
    {
      "cell_type": "code",
      "metadata": {
        "colab": {
          "base_uri": "https://localhost:8080/"
        },
        "id": "X9FWJMcm63yS",
        "outputId": "3fa3c522-ffba-48af-b319-55d6be0ee90f"
      },
      "source": [
        "class Complex:\r\n",
        "  def __init__(self, realpart, imagpart):\r\n",
        "    self.r = realpart\r\n",
        "    self.i = imagpart\r\n",
        "\r\n",
        "  def abs_value(self):\r\n",
        "    z = (self.r**2+self.i**2)**0.5\r\n",
        "    return z\r\n",
        "\r\n",
        "  def print_value(self):\r\n",
        "    print('{} + {}i'.format(self.r, self.i))\r\n",
        "\r\n",
        "x = Complex(3, 4)\r\n",
        "print(x.abs_value())\r\n",
        "x.print_value()"
      ],
      "execution_count": 27,
      "outputs": [
        {
          "output_type": "stream",
          "text": [
            "5.0\n",
            "3 + 4i\n"
          ],
          "name": "stdout"
        }
      ]
    },
    {
      "cell_type": "code",
      "metadata": {
        "id": "WIA8OZJp8WpL"
      },
      "source": [
        ""
      ],
      "execution_count": null,
      "outputs": []
    }
  ]
}