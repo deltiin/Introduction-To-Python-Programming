{
  "nbformat": 4,
  "nbformat_minor": 0,
  "metadata": {
    "colab": {
      "name": "Class.ipynb",
      "provenance": [],
      "collapsed_sections": [],
      "authorship_tag": "ABX9TyM+8FuocqwH0rIBl4QRDDMj",
      "include_colab_link": true
    },
    "kernelspec": {
      "name": "python3",
      "display_name": "Python 3"
    }
  },
  "cells": [
    {
      "cell_type": "markdown",
      "metadata": {
        "id": "view-in-github",
        "colab_type": "text"
      },
      "source": [
        "<a href=\"https://colab.research.google.com/github/deltiin/Introduction-To-Python-Programming/blob/master/Class.ipynb\" target=\"_parent\"><img src=\"https://colab.research.google.com/assets/colab-badge.svg\" alt=\"Open In Colab\"/></a>"
      ]
    },
    {
      "cell_type": "markdown",
      "metadata": {
        "id": "N2bUm1Dn1S5S"
      },
      "source": [
        "#Python Classes\r\n",
        "Python is an object oriented programming language.\r\n",
        "\r\n",
        "Almost everything in Python is an object, with its properties and methods.\r\n",
        "\r\n",
        "A Class is like an object constructor, or a \"blueprint\" for creating objects."
      ]
    },
    {
      "cell_type": "code",
      "metadata": {
        "id": "Z1wN0e6s2c5H"
      },
      "source": [
        ""
      ],
      "execution_count": null,
      "outputs": []
    },
    {
      "cell_type": "markdown",
      "metadata": {
        "id": "NS5O9AVK23a4"
      },
      "source": [
        "#Class Definition Syntax"
      ]
    },
    {
      "cell_type": "code",
      "metadata": {
        "id": "WBI6M5I222yE"
      },
      "source": [
        "class ClassName:\r\n",
        "  #Statement-1\r\n",
        "  .\r\n",
        "  .\r\n",
        "  .\r\n",
        "  #Statement-N"
      ],
      "execution_count": null,
      "outputs": []
    },
    {
      "cell_type": "markdown",
      "metadata": {
        "id": "R7WNhzkC1U00"
      },
      "source": [
        "#Create a Class\r\n",
        "Create a class named MyClass with property `x`"
      ]
    },
    {
      "cell_type": "code",
      "metadata": {
        "id": "95KmXZQf1kNF"
      },
      "source": [
        ""
      ],
      "execution_count": null,
      "outputs": []
    },
    {
      "cell_type": "markdown",
      "metadata": {
        "id": "EGkgooRN4KG4"
      },
      "source": [
        "#Properties & Attributes"
      ]
    },
    {
      "cell_type": "code",
      "metadata": {
        "id": "6IIVWRx_1r_9"
      },
      "source": [
        ""
      ],
      "execution_count": null,
      "outputs": []
    },
    {
      "cell_type": "markdown",
      "metadata": {
        "id": "fn7y8qUy4z21"
      },
      "source": [
        "#\\_\\_init\\_\\_ Method"
      ]
    },
    {
      "cell_type": "code",
      "metadata": {
        "id": "RalmIJci422x"
      },
      "source": [
        ""
      ],
      "execution_count": null,
      "outputs": []
    },
    {
      "cell_type": "code",
      "metadata": {
        "id": "4xKNtvX65xnu"
      },
      "source": [
        ""
      ],
      "execution_count": null,
      "outputs": []
    },
    {
      "cell_type": "markdown",
      "metadata": {
        "id": "1WCTXn4eDion"
      },
      "source": [
        "#Class & Instance Variables"
      ]
    },
    {
      "cell_type": "code",
      "metadata": {
        "id": "WIA8OZJp8WpL"
      },
      "source": [
        ""
      ],
      "execution_count": null,
      "outputs": []
    },
    {
      "cell_type": "markdown",
      "metadata": {
        "id": "u5dQGIgeC9Bv"
      },
      "source": [
        "#Class Example 1"
      ]
    },
    {
      "cell_type": "code",
      "metadata": {
        "id": "GUZxHmuNB3i6"
      },
      "source": [
        ""
      ],
      "execution_count": null,
      "outputs": []
    },
    {
      "cell_type": "code",
      "metadata": {
        "id": "fPBAUNDkB-I0"
      },
      "source": [
        ""
      ],
      "execution_count": null,
      "outputs": []
    },
    {
      "cell_type": "code",
      "metadata": {
        "id": "dVKRR-xuCTJc"
      },
      "source": [
        "#Modify Object Properties\r\n"
      ],
      "execution_count": null,
      "outputs": []
    },
    {
      "cell_type": "code",
      "metadata": {
        "id": "p4B7RJGqCuNo"
      },
      "source": [
        "#Delete Object Property from p1 object\r\n"
      ],
      "execution_count": null,
      "outputs": []
    },
    {
      "cell_type": "markdown",
      "metadata": {
        "id": "OV_tNbCtDBXB"
      },
      "source": [
        "#Class Example 2"
      ]
    },
    {
      "cell_type": "code",
      "metadata": {
        "id": "9xWW_INO6E4F"
      },
      "source": [
        ""
      ],
      "execution_count": null,
      "outputs": []
    },
    {
      "cell_type": "code",
      "metadata": {
        "id": "X9FWJMcm63yS"
      },
      "source": [
        ""
      ],
      "execution_count": null,
      "outputs": []
    },
    {
      "cell_type": "code",
      "metadata": {
        "id": "e0smFDPvIILC"
      },
      "source": [
        "#Detailed explanation of class varaible\r\n"
      ],
      "execution_count": null,
      "outputs": []
    },
    {
      "cell_type": "markdown",
      "metadata": {
        "id": "3klEIJ0xF_AE"
      },
      "source": [
        "#Assignment 1\r\n",
        "Write a class named `BankAccount` for storing the details of a customer.<br>\r\n",
        "Add following class variables:\r\n",
        "* `bank_name` = 'HDFC'\r\n",
        "\r\n",
        "Add following instance variables:\r\n",
        "* `name`\r\n",
        "* `age`\r\n",
        "* `gender`\r\n",
        "* `account_no`\r\n",
        "* `acount_balance`\r\n",
        "\r\n",
        "Add following class methods:\r\n",
        "* display account information\r\n",
        "* deposit money\r\n",
        "* withdraw money \r\n",
        "\r\n",
        "\r\n",
        "\r\n",
        "\r\n"
      ]
    },
    {
      "cell_type": "code",
      "metadata": {
        "id": "aOTbvWwXF-Q1"
      },
      "source": [
        "#Assignment 1\r\n",
        "#TO DO"
      ],
      "execution_count": null,
      "outputs": []
    },
    {
      "cell_type": "markdown",
      "metadata": {
        "id": "wdaLsnplIsdR"
      },
      "source": [
        "#Built-In Class Attributes\r\n",
        "* \\_\\_dict_\\_ − Dictionary containing the class's namespace.\r\n",
        "\r\n",
        "* \\_\\_doc_\\_ − Class documentation string or none, if undefined.\r\n"
      ]
    },
    {
      "cell_type": "code",
      "metadata": {
        "id": "4kBRQSiqIr0E"
      },
      "source": [
        ""
      ],
      "execution_count": null,
      "outputs": []
    },
    {
      "cell_type": "markdown",
      "metadata": {
        "id": "jDWirVSDKAQA"
      },
      "source": [
        "#Inheritance\r\n",
        "**Inheritance** allows us to define a class that inherits all the methods and properties from another class.\r\n",
        "\r\n",
        "**Parent** class is the class being inherited from, also called base class.\r\n",
        "\r\n",
        "**Child** class is the class that inherits from another class, also called derived class."
      ]
    },
    {
      "cell_type": "markdown",
      "metadata": {
        "id": "EQuqRKOjKLO2"
      },
      "source": [
        "Create a Parent Class"
      ]
    },
    {
      "cell_type": "code",
      "metadata": {
        "id": "1n07HnKBJ_vk"
      },
      "source": [
        ""
      ],
      "execution_count": null,
      "outputs": []
    },
    {
      "cell_type": "markdown",
      "metadata": {
        "id": "XweZobQvKOO_"
      },
      "source": [
        "Create a Child Class"
      ]
    },
    {
      "cell_type": "code",
      "metadata": {
        "id": "OSRZz9wLKStR"
      },
      "source": [
        ""
      ],
      "execution_count": null,
      "outputs": []
    },
    {
      "cell_type": "code",
      "metadata": {
        "id": "ONmUEQFZKiZR"
      },
      "source": [
        ""
      ],
      "execution_count": null,
      "outputs": []
    },
    {
      "cell_type": "markdown",
      "metadata": {
        "id": "IhZMSmeVKVZy"
      },
      "source": [
        "Add the \\_\\_init\\_\\_() Function"
      ]
    },
    {
      "cell_type": "markdown",
      "metadata": {
        "id": "glmbgL1SK8Jg"
      },
      "source": [
        "When you add the \\_\\_init\\_\\_() function, the child class will no longer inherit the parent's \\_\\_init\\_\\_() function."
      ]
    },
    {
      "cell_type": "code",
      "metadata": {
        "id": "PUa1lg3LK7eV"
      },
      "source": [
        ""
      ],
      "execution_count": null,
      "outputs": []
    },
    {
      "cell_type": "markdown",
      "metadata": {
        "id": "Yg-p82lDLOo_"
      },
      "source": [
        "#Use the super() Function\r\n",
        "Python also has a super() function that will make the child class inherit all the methods and properties from its parent:"
      ]
    },
    {
      "cell_type": "code",
      "metadata": {
        "id": "eNkROA3VLU5b"
      },
      "source": [
        ""
      ],
      "execution_count": null,
      "outputs": []
    },
    {
      "cell_type": "markdown",
      "metadata": {
        "id": "bu-wFzHkLpdN"
      },
      "source": [
        "#Add Properties\r\n"
      ]
    },
    {
      "cell_type": "code",
      "metadata": {
        "id": "B6aNI-O4LqLo"
      },
      "source": [
        ""
      ],
      "execution_count": null,
      "outputs": []
    },
    {
      "cell_type": "code",
      "metadata": {
        "id": "TVqYuV9_Lsal"
      },
      "source": [
        ""
      ],
      "execution_count": null,
      "outputs": []
    },
    {
      "cell_type": "markdown",
      "metadata": {
        "id": "yGZiU9W8LxBP"
      },
      "source": [
        "#Add Methods\r\n"
      ]
    },
    {
      "cell_type": "code",
      "metadata": {
        "id": "GsZVAPv0LxvQ"
      },
      "source": [
        ""
      ],
      "execution_count": null,
      "outputs": []
    }
  ]
}