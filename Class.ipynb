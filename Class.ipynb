{
  "nbformat": 4,
  "nbformat_minor": 0,
  "metadata": {
    "colab": {
      "name": "Class.ipynb",
      "provenance": [],
      "collapsed_sections": [],
      "authorship_tag": "ABX9TyMCt3z/QUthcH+zvEOlDrw4",
      "include_colab_link": true
    },
    "kernelspec": {
      "name": "python3",
      "display_name": "Python 3"
    }
  },
  "cells": [
    {
      "cell_type": "markdown",
      "metadata": {
        "id": "view-in-github",
        "colab_type": "text"
      },
      "source": [
        "<a href=\"https://colab.research.google.com/github/deltiin/Introduction-To-Python-Programming/blob/master/Class.ipynb\" target=\"_parent\"><img src=\"https://colab.research.google.com/assets/colab-badge.svg\" alt=\"Open In Colab\"/></a>"
      ]
    },
    {
      "cell_type": "markdown",
      "metadata": {
        "id": "N2bUm1Dn1S5S"
      },
      "source": [
        "#Python Classes\r\n",
        "Python is an object oriented programming language.\r\n",
        "\r\n",
        "Almost everything in Python is an object, with its properties and methods.\r\n",
        "\r\n",
        "A Class is like an object constructor, or a \"blueprint\" for creating objects."
      ]
    },
    {
      "cell_type": "code",
      "metadata": {
        "colab": {
          "base_uri": "https://localhost:8080/"
        },
        "id": "Z1wN0e6s2c5H",
        "outputId": "88a94e1f-73d7-4c82-dee5-d5eef1fd62d1"
      },
      "source": [
        "s = 'Hello World!'\r\n",
        "print(type(s))\r\n",
        "a = 10\r\n",
        "print(type(a))\r\n",
        "b = 3.142\r\n",
        "print(type(b))"
      ],
      "execution_count": 5,
      "outputs": [
        {
          "output_type": "stream",
          "text": [
            "<class 'str'>\n",
            "<class 'int'>\n",
            "<class 'float'>\n"
          ],
          "name": "stdout"
        }
      ]
    },
    {
      "cell_type": "markdown",
      "metadata": {
        "id": "NS5O9AVK23a4"
      },
      "source": [
        "#Class Definition Syntax"
      ]
    },
    {
      "cell_type": "code",
      "metadata": {
        "id": "WBI6M5I222yE"
      },
      "source": [
        "class ClassName:\r\n",
        "  #Statement-1\r\n",
        "  .\r\n",
        "  .\r\n",
        "  .\r\n",
        "  #Statement-N"
      ],
      "execution_count": null,
      "outputs": []
    },
    {
      "cell_type": "markdown",
      "metadata": {
        "id": "R7WNhzkC1U00"
      },
      "source": [
        "#Create a Class\r\n",
        "Create a class named MyClass with property `x`"
      ]
    },
    {
      "cell_type": "code",
      "metadata": {
        "colab": {
          "base_uri": "https://localhost:8080/"
        },
        "id": "95KmXZQf1kNF",
        "outputId": "2f0bb910-c163-4d1a-a5dd-fb547e15f5cf"
      },
      "source": [
        "class MyClass:\r\n",
        "  i = 12345 #x is called as a property\r\n",
        "\r\n",
        "'''\r\n",
        "creates a new instance of the \r\n",
        "class and assigns this object \r\n",
        "to the local variable x.\r\n",
        "'''\r\n",
        "x = MyClass() #x is a local variable which is instance of MyClass\r\n",
        "print(x.i)\r\n",
        "print(type(c))"
      ],
      "execution_count": 7,
      "outputs": [
        {
          "output_type": "stream",
          "text": [
            "12345\n",
            "<class '__main__.MyClass'>\n"
          ],
          "name": "stdout"
        }
      ]
    },
    {
      "cell_type": "markdown",
      "metadata": {
        "id": "EGkgooRN4KG4"
      },
      "source": [
        "#Properties & Attributes"
      ]
    },
    {
      "cell_type": "code",
      "metadata": {
        "colab": {
          "base_uri": "https://localhost:8080/"
        },
        "id": "6IIVWRx_1r_9",
        "outputId": "11d5c66a-313a-4265-db68-29c786a36f9f"
      },
      "source": [
        "class MyClass:\r\n",
        "  '''\r\n",
        "  i, j , k are the properties or attributes which belong to MyClass\r\n",
        "  '''\r\n",
        "  i = 1\r\n",
        "  j = 3.142\r\n",
        "  k = 'This is a Class'\r\n",
        "\r\n",
        "x = MyClass()\r\n",
        "print(x.i)\r\n",
        "print(x.j)\r\n",
        "print(x.k)"
      ],
      "execution_count": 9,
      "outputs": [
        {
          "output_type": "stream",
          "text": [
            "1\n",
            "3.142\n",
            "This is a Class\n"
          ],
          "name": "stdout"
        }
      ]
    },
    {
      "cell_type": "markdown",
      "metadata": {
        "id": "fn7y8qUy4z21"
      },
      "source": [
        "#\\_\\_init\\_\\_ Method"
      ]
    },
    {
      "cell_type": "code",
      "metadata": {
        "colab": {
          "base_uri": "https://localhost:8080/"
        },
        "id": "RalmIJci422x",
        "outputId": "1f001c6f-6c89-4d31-e765-1f3cfeca6281"
      },
      "source": [
        "class MyClass:\r\n",
        "  def __init__(self):\r\n",
        "    print('Printing this statement at class instantiation')\r\n",
        "\r\n",
        "x = MyClass()"
      ],
      "execution_count": 12,
      "outputs": [
        {
          "output_type": "stream",
          "text": [
            "Printing this statement at class instantiation\n"
          ],
          "name": "stdout"
        }
      ]
    },
    {
      "cell_type": "code",
      "metadata": {
        "colab": {
          "base_uri": "https://localhost:8080/"
        },
        "id": "4xKNtvX65xnu",
        "outputId": "5a4ee1fd-8eba-4f68-e918-5576b84f99ed"
      },
      "source": [
        "class MyClass:\r\n",
        "  def __init__(self, var1):\r\n",
        "    print('Printing this statement at class instantiation')\r\n",
        "    print('var1:', var1)\r\n",
        "\r\n",
        "# x = MyClass()\r\n",
        "x = MyClass('Hello World!')"
      ],
      "execution_count": 28,
      "outputs": [
        {
          "output_type": "stream",
          "text": [
            "Printing this statement at class instantiation\n",
            "var1: Hello World!\n"
          ],
          "name": "stdout"
        }
      ]
    },
    {
      "cell_type": "markdown",
      "metadata": {
        "id": "1WCTXn4eDion"
      },
      "source": [
        "#Class & Instance Variables"
      ]
    },
    {
      "cell_type": "code",
      "metadata": {
        "colab": {
          "base_uri": "https://localhost:8080/"
        },
        "id": "WIA8OZJp8WpL",
        "outputId": "82cfb531-2606-41b4-83da-92875ac24eb2"
      },
      "source": [
        "class Dog:\r\n",
        "  species = 'canine' #class variable - shared by all instances\r\n",
        "\r\n",
        "  def __init__(self,name):\r\n",
        "    self.name = name #instance variable - unique to each instance\r\n",
        "\r\n",
        "d1 = Dog('Goofy')\r\n",
        "d2 = Dog('Scooby')\r\n",
        "\r\n",
        "print(d1.species)\r\n",
        "print(d1.name)\r\n",
        "print(d2.species)\r\n",
        "print(d2.name)"
      ],
      "execution_count": null,
      "outputs": [
        {
          "output_type": "stream",
          "text": [
            "canine\n",
            "Goofy\n",
            "canine\n",
            "Scooby\n"
          ],
          "name": "stdout"
        }
      ]
    },
    {
      "cell_type": "markdown",
      "metadata": {
        "id": "u5dQGIgeC9Bv"
      },
      "source": [
        "#Class Example 1"
      ]
    },
    {
      "cell_type": "code",
      "metadata": {
        "colab": {
          "base_uri": "https://localhost:8080/"
        },
        "id": "GUZxHmuNB3i6",
        "outputId": "d59acac9-ba7c-4aa2-8c6e-c3429424d294"
      },
      "source": [
        "class Person:\r\n",
        "  def __init__(self, name, age):\r\n",
        "    self.name = name\r\n",
        "    self.age = age\r\n",
        "\r\n",
        "p1 = Person(\"John\", 36)\r\n",
        "\r\n",
        "print(p1.name)\r\n",
        "print(p1.age)"
      ],
      "execution_count": 29,
      "outputs": [
        {
          "output_type": "stream",
          "text": [
            "John\n",
            "36\n"
          ],
          "name": "stdout"
        }
      ]
    },
    {
      "cell_type": "code",
      "metadata": {
        "colab": {
          "base_uri": "https://localhost:8080/"
        },
        "id": "fPBAUNDkB-I0",
        "outputId": "f1069d97-2856-43d2-daa8-aa5400e8dbd9"
      },
      "source": [
        "class Person:\r\n",
        "  def __init__(self, name, age):\r\n",
        "    self.name = name\r\n",
        "    self.age = age\r\n",
        "\r\n",
        "  def print_name(self):\r\n",
        "    print(\"Hello my name is \" + self.name)\r\n",
        "  \r\n",
        "  def print_age(self):\r\n",
        "    print(\"Hello my age is\", self.age)\r\n",
        "\r\n",
        "p1 = Person(\"John\", 36)\r\n",
        "p1.print_name()"
      ],
      "execution_count": 34,
      "outputs": [
        {
          "output_type": "stream",
          "text": [
            "Hello my name is John\n"
          ],
          "name": "stdout"
        }
      ]
    },
    {
      "cell_type": "code",
      "metadata": {
        "colab": {
          "base_uri": "https://localhost:8080/"
        },
        "id": "dVKRR-xuCTJc",
        "outputId": "41ffac21-f4d1-46e9-ee6a-d3785bb79fc2"
      },
      "source": [
        "#Modify Object Properties\r\n",
        "p1.age = 40\r\n",
        "p1.print_age()"
      ],
      "execution_count": 35,
      "outputs": [
        {
          "output_type": "stream",
          "text": [
            "Hello my age is 40\n"
          ],
          "name": "stdout"
        }
      ]
    },
    {
      "cell_type": "code",
      "metadata": {
        "id": "p4B7RJGqCuNo"
      },
      "source": [
        "#Delete Object Property from p1 object\r\n",
        "del p1.age\r\n",
        "p1.print_age()"
      ],
      "execution_count": 37,
      "outputs": []
    },
    {
      "cell_type": "markdown",
      "metadata": {
        "id": "OV_tNbCtDBXB"
      },
      "source": [
        "#Class Example 2"
      ]
    },
    {
      "cell_type": "code",
      "metadata": {
        "colab": {
          "base_uri": "https://localhost:8080/"
        },
        "id": "9xWW_INO6E4F",
        "outputId": "71bfb514-c10d-45db-e9f9-6c42770a7f65"
      },
      "source": [
        "class Complex:\r\n",
        "  def __init__(self, realpart, imagpart):\r\n",
        "    self.r = realpart\r\n",
        "    self.i = imagpart\r\n",
        "\r\n",
        "x = Complex(2.0, -1.5)\r\n",
        "print(x.r)\r\n",
        "print(x.i)"
      ],
      "execution_count": 21,
      "outputs": [
        {
          "output_type": "stream",
          "text": [
            "2.0\n",
            "-1.5\n"
          ],
          "name": "stdout"
        }
      ]
    },
    {
      "cell_type": "code",
      "metadata": {
        "colab": {
          "base_uri": "https://localhost:8080/"
        },
        "id": "X9FWJMcm63yS",
        "outputId": "3fa3c522-ffba-48af-b319-55d6be0ee90f"
      },
      "source": [
        "class Complex:\r\n",
        "  def __init__(self, realpart, imagpart):\r\n",
        "    self.r = realpart\r\n",
        "    self.i = imagpart\r\n",
        "\r\n",
        "  def abs_value(self):\r\n",
        "    z = (self.r**2+self.i**2)**0.5\r\n",
        "    return z\r\n",
        "\r\n",
        "  def print_value(self):\r\n",
        "    print('{} + {}i'.format(self.r, self.i))\r\n",
        "\r\n",
        "x = Complex(3, 4)\r\n",
        "print(x.abs_value())\r\n",
        "x.print_value()"
      ],
      "execution_count": 27,
      "outputs": [
        {
          "output_type": "stream",
          "text": [
            "5.0\n",
            "3 + 4i\n"
          ],
          "name": "stdout"
        }
      ]
    },
    {
      "cell_type": "code",
      "metadata": {
        "id": "e0smFDPvIILC"
      },
      "source": [
        "#Detailed explanation of class varaible\r\n",
        "class Employee:\r\n",
        "   'Common base class for all employees'\r\n",
        "   empCount = 0\r\n",
        "\r\n",
        "   def __init__(self, name, salary):\r\n",
        "      self.name = name\r\n",
        "      self.salary = salary\r\n",
        "      Employee.empCount += 1\r\n",
        "   \r\n",
        "   def displayCount(self):\r\n",
        "     print(\"Total Employee %d\" % Employee.empCount)\r\n",
        "\r\n",
        "   def displayEmployee(self):\r\n",
        "      print(\"Name : \", self.name,  \", Salary: \", self.salary)\r\n",
        "\r\n",
        "#\"This would create first object of Employee class\"\r\n",
        "emp1 = Employee(\"John\", 2000)\r\n",
        "#\"This would create second object of Employee class\"\r\n",
        "emp2 = Employee(\"Mark\", 5000)\r\n",
        "emp1.displayEmployee()\r\n",
        "emp2.displayEmployee()\r\n",
        "print(\"Total Employee %d\" % Employee.empCount)"
      ],
      "execution_count": null,
      "outputs": []
    },
    {
      "cell_type": "markdown",
      "metadata": {
        "id": "3klEIJ0xF_AE"
      },
      "source": [
        "#Assignment 1\r\n",
        "Write a class named `BankAccount` for storing the details of a customer.<br>\r\n",
        "Add following class variables:\r\n",
        "* `bank_name` = 'HDFC'\r\n",
        "\r\n",
        "Add following instance variables:\r\n",
        "* `name`\r\n",
        "* `age`\r\n",
        "* `gender`\r\n",
        "* `account_no`\r\n",
        "* `acount_balance`\r\n",
        "\r\n",
        "Add following class methods:\r\n",
        "* display account information\r\n",
        "* deposit money\r\n",
        "* withdraw money \r\n",
        "\r\n",
        "\r\n",
        "\r\n",
        "\r\n"
      ]
    },
    {
      "cell_type": "code",
      "metadata": {
        "id": "aOTbvWwXF-Q1"
      },
      "source": [
        "#Assignment 1\r\n",
        "#TO DO"
      ],
      "execution_count": null,
      "outputs": []
    },
    {
      "cell_type": "markdown",
      "metadata": {
        "id": "wdaLsnplIsdR"
      },
      "source": [
        "#Built-In Class Attributes\r\n",
        "* \\_\\_dict_\\_ − Dictionary containing the class's namespace.\r\n",
        "\r\n",
        "* \\_\\_doc_\\_ − Class documentation string or none, if undefined.\r\n"
      ]
    },
    {
      "cell_type": "code",
      "metadata": {
        "colab": {
          "base_uri": "https://localhost:8080/"
        },
        "id": "4kBRQSiqIr0E",
        "outputId": "a8063ed0-bb1e-471c-a8b6-fb87e84f5983"
      },
      "source": [
        "class Person:\r\n",
        "  '''This is a Person Class'''\r\n",
        "  def __init__(self, name, age):\r\n",
        "    self.name = name\r\n",
        "    self.age = age\r\n",
        "\r\n",
        "p1 = Person(\"John\", 36)\r\n",
        "\r\n",
        "print(p1.__dict__)\r\n",
        "print(p1.__doc__)"
      ],
      "execution_count": 45,
      "outputs": [
        {
          "output_type": "stream",
          "text": [
            "{'name': 'John', 'age': 36}\n",
            "This is a Person Class\n"
          ],
          "name": "stdout"
        }
      ]
    },
    {
      "cell_type": "markdown",
      "metadata": {
        "id": "jDWirVSDKAQA"
      },
      "source": [
        "#Inheritance\r\n",
        "**Inheritance** allows us to define a class that inherits all the methods and properties from another class.\r\n",
        "\r\n",
        "**Parent** class is the class being inherited from, also called base class.\r\n",
        "\r\n",
        "**Child** class is the class that inherits from another class, also called derived class."
      ]
    },
    {
      "cell_type": "markdown",
      "metadata": {
        "id": "EQuqRKOjKLO2"
      },
      "source": [
        "Create a Parent Class"
      ]
    },
    {
      "cell_type": "code",
      "metadata": {
        "id": "1n07HnKBJ_vk"
      },
      "source": [
        "class Person:\r\n",
        "  def __init__(self, fname, lname):\r\n",
        "    self.firstname = fname\r\n",
        "    self.lastname = lname\r\n",
        "\r\n",
        "  def printname(self):\r\n",
        "    print(self.firstname, self.lastname)\r\n",
        "\r\n",
        "#Use the Person class to create an object, and then execute the printname method:\r\n",
        "\r\n",
        "x = Person(\"John\", \"Doe\")\r\n",
        "x.printname()"
      ],
      "execution_count": null,
      "outputs": []
    },
    {
      "cell_type": "markdown",
      "metadata": {
        "id": "XweZobQvKOO_"
      },
      "source": [
        "Create a Child Class"
      ]
    },
    {
      "cell_type": "code",
      "metadata": {
        "id": "OSRZz9wLKStR"
      },
      "source": [
        "class Student(Person):\r\n",
        "  pass"
      ],
      "execution_count": null,
      "outputs": []
    },
    {
      "cell_type": "code",
      "metadata": {
        "id": "ONmUEQFZKiZR"
      },
      "source": [
        "x = Student(\"Mike\", \"Olsen\")\r\n",
        "x.printname()"
      ],
      "execution_count": null,
      "outputs": []
    },
    {
      "cell_type": "markdown",
      "metadata": {
        "id": "IhZMSmeVKVZy"
      },
      "source": [
        "Add the \\_\\_init\\_\\_() Function"
      ]
    },
    {
      "cell_type": "code",
      "metadata": {
        "id": "cukabcexKw40"
      },
      "source": [
        "class Student(Person):\r\n",
        "  def __init__(self, fname, lname):"
      ],
      "execution_count": null,
      "outputs": []
    },
    {
      "cell_type": "markdown",
      "metadata": {
        "id": "glmbgL1SK8Jg"
      },
      "source": [
        "When you add the \\_\\_init\\_\\_() function, the child class will no longer inherit the parent's \\_\\_init\\_\\_() function."
      ]
    },
    {
      "cell_type": "code",
      "metadata": {
        "id": "PUa1lg3LK7eV"
      },
      "source": [
        "class Student(Person):\r\n",
        "  def __init__(self, fname, lname):\r\n",
        "    Person.__init__(self, fname, lname)"
      ],
      "execution_count": null,
      "outputs": []
    },
    {
      "cell_type": "markdown",
      "metadata": {
        "id": "Yg-p82lDLOo_"
      },
      "source": [
        "#Use the super() Function\r\n",
        "Python also has a super() function that will make the child class inherit all the methods and properties from its parent:"
      ]
    },
    {
      "cell_type": "code",
      "metadata": {
        "id": "eNkROA3VLU5b"
      },
      "source": [
        "class Student(Person):\r\n",
        "  def __init__(self, fname, lname):\r\n",
        "    super().__init__(fname, lname)"
      ],
      "execution_count": null,
      "outputs": []
    },
    {
      "cell_type": "markdown",
      "metadata": {
        "id": "bu-wFzHkLpdN"
      },
      "source": [
        "#Add Properties\r\n"
      ]
    },
    {
      "cell_type": "code",
      "metadata": {
        "id": "B6aNI-O4LqLo"
      },
      "source": [
        "class Student(Person):\r\n",
        "  def __init__(self, fname, lname):\r\n",
        "    super().__init__(fname, lname)\r\n",
        "    self.graduationyear = 2019"
      ],
      "execution_count": null,
      "outputs": []
    },
    {
      "cell_type": "code",
      "metadata": {
        "id": "TVqYuV9_Lsal"
      },
      "source": [
        "class Student(Person):\r\n",
        "  def __init__(self, fname, lname, year):\r\n",
        "    super().__init__(fname, lname)\r\n",
        "    self.graduationyear = year\r\n",
        "\r\n",
        "x = Student(\"Mike\", \"Olsen\", 2019)"
      ],
      "execution_count": null,
      "outputs": []
    },
    {
      "cell_type": "markdown",
      "metadata": {
        "id": "yGZiU9W8LxBP"
      },
      "source": [
        "#Add Methods\r\n"
      ]
    },
    {
      "cell_type": "code",
      "metadata": {
        "id": "GsZVAPv0LxvQ"
      },
      "source": [
        "class Student(Person):\r\n",
        "  def __init__(self, fname, lname, year):\r\n",
        "    super().__init__(fname, lname)\r\n",
        "    self.graduationyear = year\r\n",
        "\r\n",
        "  def welcome(self):\r\n",
        "    print(\"Welcome\", self.firstname, self.lastname, \"to the class of\", self.graduationyear)"
      ],
      "execution_count": null,
      "outputs": []
    }
  ]
}