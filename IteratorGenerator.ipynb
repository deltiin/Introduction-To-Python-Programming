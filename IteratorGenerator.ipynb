{
  "nbformat": 4,
  "nbformat_minor": 0,
  "metadata": {
    "colab": {
      "name": "IteratorGenerator.ipynb",
      "provenance": [],
      "toc_visible": true,
      "authorship_tag": "ABX9TyPYXrkHBNesDYyR4z+/rrCO",
      "include_colab_link": true
    },
    "kernelspec": {
      "name": "python3",
      "display_name": "Python 3"
    }
  },
  "cells": [
    {
      "cell_type": "markdown",
      "metadata": {
        "id": "view-in-github",
        "colab_type": "text"
      },
      "source": [
        "<a href=\"https://colab.research.google.com/github/deltiin/Introduction-To-Python-Programming/blob/master/IteratorGenerator.ipynb\" target=\"_parent\"><img src=\"https://colab.research.google.com/assets/colab-badge.svg\" alt=\"Open In Colab\"/></a>"
      ]
    },
    {
      "cell_type": "code",
      "metadata": {
        "colab": {
          "base_uri": "https://localhost:8080/"
        },
        "id": "0M2HgR6lXY7H",
        "outputId": "03a44f71-f99f-4973-d2df-e58fef8bfd3b"
      },
      "source": [
        "listA = [1,2,3,4]\r\n",
        "a = 'Hello World'\r\n",
        "for element in a:\r\n",
        "  print(element)\r\n",
        "# print(type(listA))\r\n",
        "dir(listA)"
      ],
      "execution_count": 18,
      "outputs": [
        {
          "output_type": "execute_result",
          "data": {
            "text/plain": [
              "['__add__',\n",
              " '__class__',\n",
              " '__contains__',\n",
              " '__delattr__',\n",
              " '__delitem__',\n",
              " '__dir__',\n",
              " '__doc__',\n",
              " '__eq__',\n",
              " '__format__',\n",
              " '__ge__',\n",
              " '__getattribute__',\n",
              " '__getitem__',\n",
              " '__gt__',\n",
              " '__hash__',\n",
              " '__iadd__',\n",
              " '__imul__',\n",
              " '__init__',\n",
              " '__init_subclass__',\n",
              " '__iter__',\n",
              " '__le__',\n",
              " '__len__',\n",
              " '__lt__',\n",
              " '__mul__',\n",
              " '__ne__',\n",
              " '__new__',\n",
              " '__reduce__',\n",
              " '__reduce_ex__',\n",
              " '__repr__',\n",
              " '__reversed__',\n",
              " '__rmul__',\n",
              " '__setattr__',\n",
              " '__setitem__',\n",
              " '__sizeof__',\n",
              " '__str__',\n",
              " '__subclasshook__',\n",
              " 'append',\n",
              " 'clear',\n",
              " 'copy',\n",
              " 'count',\n",
              " 'extend',\n",
              " 'index',\n",
              " 'insert',\n",
              " 'pop',\n",
              " 'remove',\n",
              " 'reverse',\n",
              " 'sort']"
            ]
          },
          "metadata": {
            "tags": []
          },
          "execution_count": 18
        }
      ]
    },
    {
      "cell_type": "code",
      "metadata": {
        "colab": {
          "base_uri": "https://localhost:8080/"
        },
        "id": "aZ6Vcp7lYG1m",
        "outputId": "e4e9dd04-cd4d-4cfc-a925-7eb87ff1a9e1"
      },
      "source": [
        "listA = [1,2,3,4,5]\r\n",
        "my_iter = iter(listA)\r\n",
        "dir(my_iter)"
      ],
      "execution_count": 22,
      "outputs": [
        {
          "output_type": "execute_result",
          "data": {
            "text/plain": [
              "['__class__',\n",
              " '__delattr__',\n",
              " '__dir__',\n",
              " '__doc__',\n",
              " '__eq__',\n",
              " '__format__',\n",
              " '__ge__',\n",
              " '__getattribute__',\n",
              " '__gt__',\n",
              " '__hash__',\n",
              " '__init__',\n",
              " '__init_subclass__',\n",
              " '__iter__',\n",
              " '__le__',\n",
              " '__length_hint__',\n",
              " '__lt__',\n",
              " '__ne__',\n",
              " '__new__',\n",
              " '__next__',\n",
              " '__reduce__',\n",
              " '__reduce_ex__',\n",
              " '__repr__',\n",
              " '__setattr__',\n",
              " '__setstate__',\n",
              " '__sizeof__',\n",
              " '__str__',\n",
              " '__subclasshook__']"
            ]
          },
          "metadata": {
            "tags": []
          },
          "execution_count": 22
        }
      ]
    },
    {
      "cell_type": "markdown",
      "metadata": {
        "id": "gJRmWB2qXkHm"
      },
      "source": [
        "#Iterators"
      ]
    },
    {
      "cell_type": "code",
      "metadata": {
        "colab": {
          "base_uri": "https://localhost:8080/"
        },
        "id": "29lmmYbxYATx",
        "outputId": "323a46df-a42c-4ed8-9140-720444793b21"
      },
      "source": [
        "listA = [1,2,3,4,5]\r\n",
        "my_iter = iter(listA)\r\n",
        "\r\n",
        "print(next(my_iter))#0\r\n",
        "print(next(my_iter))#1\r\n",
        "print(next(my_iter))#2\r\n",
        "print(next(my_iter))#3\r\n",
        "print(next(my_iter))#4\r\n",
        "\r\n",
        "# print(next(my_iter))\r\n",
        "for e in listA:\r\n",
        "  print(e)"
      ],
      "execution_count": 26,
      "outputs": [
        {
          "output_type": "stream",
          "text": [
            "1\n",
            "2\n",
            "3\n",
            "4\n",
            "5\n",
            "1\n",
            "2\n",
            "3\n",
            "4\n",
            "5\n"
          ],
          "name": "stdout"
        }
      ]
    },
    {
      "cell_type": "code",
      "metadata": {
        "colab": {
          "base_uri": "https://localhost:8080/"
        },
        "id": "cICX8XkxcLyV",
        "outputId": "ef6c6e42-48af-4340-9517-f384d5f1f22a"
      },
      "source": [
        "class PowTwo:\r\n",
        "  def __init__(self, max=0):\r\n",
        "    self.max = max\r\n",
        "\r\n",
        "  def __iter__(self):\r\n",
        "    self.n = 0\r\n",
        "    return self\r\n",
        "  \r\n",
        "  def __next__(self):\r\n",
        "    if self.n <= self.max:\r\n",
        "      result = 2 ** self.n\r\n",
        "      self.n += 1\r\n",
        "      return result\r\n",
        "    else:\r\n",
        "      raise StopIteration\r\n",
        "\r\n",
        "number = PowTwo(5)\r\n",
        "i = iter(number)\r\n",
        "\r\n",
        "print(next(i))\r\n",
        "print(next(i))\r\n",
        "print(next(i))\r\n",
        "print(next(i))\r\n",
        "print(next(i))\r\n",
        "print(next(i))"
      ],
      "execution_count": 45,
      "outputs": [
        {
          "output_type": "stream",
          "text": [
            "1\n",
            "2\n",
            "4\n",
            "8\n",
            "16\n",
            "32\n"
          ],
          "name": "stdout"
        }
      ]
    },
    {
      "cell_type": "code",
      "metadata": {
        "colab": {
          "base_uri": "https://localhost:8080/"
        },
        "id": "j_0ngY3SfjOC",
        "outputId": "e133bcf4-c457-4414-ac5c-9eb602342540"
      },
      "source": [
        "print(next(i))"
      ],
      "execution_count": 44,
      "outputs": [
        {
          "output_type": "stream",
          "text": [
            "None\n"
          ],
          "name": "stdout"
        }
      ]
    },
    {
      "cell_type": "code",
      "metadata": {
        "colab": {
          "base_uri": "https://localhost:8080/"
        },
        "id": "6Wig7RDDeL4r",
        "outputId": "c3204aab-ff59-46c2-de9a-a64f75320b20"
      },
      "source": [
        "print(type(number))\r\n",
        "for n in number:\r\n",
        "  print(n)"
      ],
      "execution_count": 36,
      "outputs": [
        {
          "output_type": "stream",
          "text": [
            "<class '__main__.PowTwo'>\n",
            "1\n",
            "2\n",
            "4\n",
            "8\n",
            "16\n",
            "32\n"
          ],
          "name": "stdout"
        }
      ]
    },
    {
      "cell_type": "code",
      "metadata": {
        "colab": {
          "base_uri": "https://localhost:8080/"
        },
        "id": "hlbM5Fr_drG4",
        "outputId": "e29b8a43-0880-4a07-fff2-466342df37cf"
      },
      "source": [
        "class PowTwo:\r\n",
        "    def __init__(self, max = 0):\r\n",
        "        self.max = max\r\n",
        "        \r\n",
        "    def __iter__(self):\r\n",
        "        self.n = 0\r\n",
        "        return self\r\n",
        "    \r\n",
        "    def __next__(self):\r\n",
        "        if self.n < self.max:\r\n",
        "            result = 2 ** self.n\r\n",
        "            self.n += 1\r\n",
        "            return result\r\n",
        "        else:\r\n",
        "            raise StopIteration\r\n",
        "number = PowTwo(5)\r\n",
        "i = iter(number)\r\n",
        "print(next(i))\r\n",
        "print(next(i))\r\n",
        "print(next(i))\r\n",
        "print(next(i))\r\n",
        "print(next(i))\r\n",
        "print(next(i))"
      ],
      "execution_count": 41,
      "outputs": [
        {
          "output_type": "stream",
          "text": [
            "1\n",
            "2\n",
            "4\n",
            "8\n",
            "16\n",
            "32\n"
          ],
          "name": "stdout"
        }
      ]
    },
    {
      "cell_type": "code",
      "metadata": {
        "colab": {
          "base_uri": "https://localhost:8080/",
          "height": 414
        },
        "id": "-SQ7-7fof1Bu",
        "outputId": "79a55f61-c36b-423d-9280-661650472e7d"
      },
      "source": [
        "class PowTwo:\r\n",
        "  def __init__(self, max=0):\r\n",
        "    self.max = max\r\n",
        "\r\n",
        "  def __iter__(self):\r\n",
        "    self.n = 0\r\n",
        "    return self\r\n",
        "  \r\n",
        "  def __next__(self):\r\n",
        "    if self.n <= self.max:\r\n",
        "      result = 2 ** self.n\r\n",
        "      self.n += 1\r\n",
        "      return result\r\n",
        "    else:\r\n",
        "      raise StopIteration\r\n",
        "\r\n",
        "number = PowTwo(5)\r\n",
        "i = iter(number)\r\n",
        "print(next(i))\r\n",
        "print(next(i))\r\n",
        "print(next(i))\r\n",
        "print(next(i))\r\n",
        "print(next(i))\r\n",
        "print(next(i))\r\n",
        "\r\n",
        "print(next(i))"
      ],
      "execution_count": 55,
      "outputs": [
        {
          "output_type": "stream",
          "text": [
            "1\n",
            "2\n",
            "4\n",
            "8\n",
            "16\n",
            "32\n"
          ],
          "name": "stdout"
        },
        {
          "output_type": "error",
          "ename": "StopIteration",
          "evalue": "ignored",
          "traceback": [
            "\u001b[0;31m---------------------------------------------------------------------------\u001b[0m",
            "\u001b[0;31mStopIteration\u001b[0m                             Traceback (most recent call last)",
            "\u001b[0;32m<ipython-input-55-b1261413ee09>\u001b[0m in \u001b[0;36m<module>\u001b[0;34m()\u001b[0m\n\u001b[1;32m     24\u001b[0m \u001b[0mprint\u001b[0m\u001b[0;34m(\u001b[0m\u001b[0mnext\u001b[0m\u001b[0;34m(\u001b[0m\u001b[0mi\u001b[0m\u001b[0;34m)\u001b[0m\u001b[0;34m)\u001b[0m\u001b[0;34m\u001b[0m\u001b[0;34m\u001b[0m\u001b[0m\n\u001b[1;32m     25\u001b[0m \u001b[0;34m\u001b[0m\u001b[0m\n\u001b[0;32m---> 26\u001b[0;31m \u001b[0mprint\u001b[0m\u001b[0;34m(\u001b[0m\u001b[0mnext\u001b[0m\u001b[0;34m(\u001b[0m\u001b[0mi\u001b[0m\u001b[0;34m)\u001b[0m\u001b[0;34m)\u001b[0m\u001b[0;34m\u001b[0m\u001b[0;34m\u001b[0m\u001b[0m\n\u001b[0m",
            "\u001b[0;32m<ipython-input-55-b1261413ee09>\u001b[0m in \u001b[0;36m__next__\u001b[0;34m(self)\u001b[0m\n\u001b[1;32m     13\u001b[0m       \u001b[0;32mreturn\u001b[0m \u001b[0mresult\u001b[0m\u001b[0;34m\u001b[0m\u001b[0;34m\u001b[0m\u001b[0m\n\u001b[1;32m     14\u001b[0m     \u001b[0;32melse\u001b[0m\u001b[0;34m:\u001b[0m\u001b[0;34m\u001b[0m\u001b[0;34m\u001b[0m\u001b[0m\n\u001b[0;32m---> 15\u001b[0;31m       \u001b[0;32mraise\u001b[0m \u001b[0mStopIteration\u001b[0m\u001b[0;34m\u001b[0m\u001b[0;34m\u001b[0m\u001b[0m\n\u001b[0m\u001b[1;32m     16\u001b[0m \u001b[0;34m\u001b[0m\u001b[0m\n\u001b[1;32m     17\u001b[0m \u001b[0mnumber\u001b[0m \u001b[0;34m=\u001b[0m \u001b[0mPowTwo\u001b[0m\u001b[0;34m(\u001b[0m\u001b[0;36m5\u001b[0m\u001b[0;34m)\u001b[0m\u001b[0;34m\u001b[0m\u001b[0;34m\u001b[0m\u001b[0m\n",
            "\u001b[0;31mStopIteration\u001b[0m: "
          ]
        }
      ]
    },
    {
      "cell_type": "code",
      "metadata": {
        "colab": {
          "base_uri": "https://localhost:8080/"
        },
        "id": "Bd2m8yhLgLjM",
        "outputId": "b662aa0e-77d2-4ebf-b38a-9ee1429f258c"
      },
      "source": [
        "print(next(i))"
      ],
      "execution_count": 54,
      "outputs": [
        {
          "output_type": "stream",
          "text": [
            "4096\n"
          ],
          "name": "stdout"
        }
      ]
    },
    {
      "cell_type": "markdown",
      "metadata": {
        "id": "hH2hnHdXgqsP"
      },
      "source": [
        "#Generators"
      ]
    },
    {
      "cell_type": "code",
      "metadata": {
        "id": "yxWqX28wgr3y"
      },
      "source": [
        "def gen():\r\n",
        "  n = 1\r\n",
        "  print('This is the first line')\r\n",
        "  yield n\r\n",
        "\r\n",
        "  n += 1\r\n",
        "  print('This is the second line')\r\n",
        "  yield n\r\n",
        "\r\n",
        "  n += 1\r\n",
        "  print('This is the last line')\r\n",
        "  yield n"
      ],
      "execution_count": 60,
      "outputs": []
    },
    {
      "cell_type": "code",
      "metadata": {
        "colab": {
          "base_uri": "https://localhost:8080/"
        },
        "id": "oprhcFg3hZGu",
        "outputId": "01e2472a-d3ef-4d7f-8285-033a7aee0cfb"
      },
      "source": [
        "a = gen()\r\n",
        "print(type(gen))\r\n",
        "for i in a:\r\n",
        "  print(i)"
      ],
      "execution_count": 64,
      "outputs": [
        {
          "output_type": "stream",
          "text": [
            "<class 'function'>\n",
            "This is the first line\n",
            "1\n",
            "This is the second line\n",
            "2\n",
            "This is the last line\n",
            "3\n"
          ],
          "name": "stdout"
        }
      ]
    },
    {
      "cell_type": "code",
      "metadata": {
        "id": "wnfCZnNliTbe"
      },
      "source": [
        "class PowTwo:\r\n",
        "  def __init__(self, max=0):\r\n",
        "    self.max = max\r\n",
        "\r\n",
        "  def __iter__(self):\r\n",
        "    self.n = 0\r\n",
        "    return self\r\n",
        "  \r\n",
        "  def __next__(self):\r\n",
        "    if self.n <= self.max:\r\n",
        "      result = 2 ** self.n\r\n",
        "      self.n += 1\r\n",
        "      return result\r\n",
        "    else:\r\n",
        "      raise StopIteration"
      ],
      "execution_count": null,
      "outputs": []
    },
    {
      "cell_type": "code",
      "metadata": {
        "colab": {
          "base_uri": "https://localhost:8080/"
        },
        "id": "1Je9Doioipe-",
        "outputId": "b7371d19-5ad2-4342-d47a-6f00ee916bed"
      },
      "source": [
        "def PowTwoFunction(max=0):\r\n",
        "  n = 0\r\n",
        "  while n < max:\r\n",
        "    yield 2 ** n\r\n",
        "    n +=1\r\n",
        "\r\n",
        "p = PowTwoFunction(5)\r\n",
        "for element in p:\r\n",
        "  print(element)"
      ],
      "execution_count": 72,
      "outputs": [
        {
          "output_type": "stream",
          "text": [
            "1\n",
            "2\n",
            "4\n",
            "8\n",
            "16\n"
          ],
          "name": "stdout"
        }
      ]
    },
    {
      "cell_type": "code",
      "metadata": {
        "colab": {
          "base_uri": "https://localhost:8080/",
          "height": 162
        },
        "id": "LRLz26iIjTBJ",
        "outputId": "948fb2b3-24a9-40b3-a447-1492a16e59ac"
      },
      "source": [
        "next(p)"
      ],
      "execution_count": 71,
      "outputs": [
        {
          "output_type": "error",
          "ename": "StopIteration",
          "evalue": "ignored",
          "traceback": [
            "\u001b[0;31m---------------------------------------------------------------------------\u001b[0m",
            "\u001b[0;31mStopIteration\u001b[0m                             Traceback (most recent call last)",
            "\u001b[0;32m<ipython-input-71-edf152ee890d>\u001b[0m in \u001b[0;36m<module>\u001b[0;34m()\u001b[0m\n\u001b[0;32m----> 1\u001b[0;31m \u001b[0mnext\u001b[0m\u001b[0;34m(\u001b[0m\u001b[0mp\u001b[0m\u001b[0;34m)\u001b[0m\u001b[0;34m\u001b[0m\u001b[0;34m\u001b[0m\u001b[0m\n\u001b[0m",
            "\u001b[0;31mStopIteration\u001b[0m: "
          ]
        }
      ]
    }
  ]
}