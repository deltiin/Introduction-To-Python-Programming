{
  "nbformat": 4,
  "nbformat_minor": 0,
  "metadata": {
    "colab": {
      "name": "C4 Intro to Python.ipynb",
      "private_outputs": true,
      "provenance": [],
      "collapsed_sections": []
    },
    "kernelspec": {
      "name": "python3",
      "display_name": "Python 3"
    }
  },
  "cells": [
    {
      "cell_type": "code",
      "metadata": {
        "id": "wzaZwT_u5LIM"
      },
      "source": [
        "# Clone the entire repo.\n",
        "!git clone -l -s https://github.com/deltiin/Introduction-To-Python-Programming.git cloned-repo\n",
        "%cd cloned-repo\n",
        "!ls"
      ],
      "execution_count": null,
      "outputs": []
    },
    {
      "cell_type": "code",
      "metadata": {
        "id": "IvAdiM855QI2"
      },
      "source": [
        "from IPython.display import Image\n",
        "def page(num):\n",
        "    return Image(\"c4-content/c4PythonProgramming\"+str(num)+ \".png\" , width=640)"
      ],
      "execution_count": null,
      "outputs": []
    },
    {
      "cell_type": "markdown",
      "metadata": {
        "id": "0LCJUYrC7uI7"
      },
      "source": [
        "# For Loops\n",
        "\n",
        "There are times when you may want to execute the same task several times. Rather than writing the code over and over, you can use a 'for' loop. <br>\n"
      ]
    },
    {
      "cell_type": "code",
      "metadata": {
        "id": "i20WrHhndfi6"
      },
      "source": [
        "page(1)"
      ],
      "execution_count": null,
      "outputs": []
    },
    {
      "cell_type": "code",
      "metadata": {
        "id": "cthjnWIpArbC"
      },
      "source": [
        "page(2)"
      ],
      "execution_count": null,
      "outputs": []
    },
    {
      "cell_type": "markdown",
      "metadata": {
        "id": "_2uXQpJoA7Vq"
      },
      "source": [
        "A Python 'for' loop uses the form: <br><br>\n",
        "\n",
        "for iterating_var in sequence: <br>\n",
        ">   statements(s)\n"
      ]
    },
    {
      "cell_type": "code",
      "metadata": {
        "id": "fHRltgUW-LKD"
      },
      "source": [
        "for letter in 'Python':   \n",
        "   print ('Current Letter :', letter)"
      ],
      "execution_count": null,
      "outputs": []
    },
    {
      "cell_type": "markdown",
      "metadata": {
        "id": "XO9aI9ngBLgV"
      },
      "source": [
        "# **Assignment #1**\n",
        "\n",
        "Write a program to do the following: \n",
        "1. For every letter in your name, use a for loop to \n",
        "> print (\"letter is \", letter)"
      ]
    },
    {
      "cell_type": "code",
      "metadata": {
        "id": "RSuvbTg3-LL5"
      },
      "source": [
        "#Assignment #1\n",
        "\n",
        "#TODO"
      ],
      "execution_count": null,
      "outputs": []
    },
    {
      "cell_type": "markdown",
      "metadata": {
        "id": "eqMpJh59SXG_"
      },
      "source": [
        "**For loops can be used with numbers.**"
      ]
    },
    {
      "cell_type": "code",
      "metadata": {
        "id": "W3hJkCzVSujN"
      },
      "source": [
        "#for loop example\n",
        "for x in range(6): \n",
        "  print(x)"
      ],
      "execution_count": null,
      "outputs": []
    },
    {
      "cell_type": "markdown",
      "metadata": {
        "id": "JqXaUNuOTqFE"
      },
      "source": [
        "# **Assignment #2**\n",
        "Use a 'for' loop to print the integers from 0 - 9"
      ]
    },
    {
      "cell_type": "code",
      "metadata": {
        "id": "q4P23vXcT8Qx"
      },
      "source": [
        "# **Assignment #2**\n",
        "\n",
        "#TODO"
      ],
      "execution_count": null,
      "outputs": []
    },
    {
      "cell_type": "markdown",
      "metadata": {
        "id": "oyHqUKKOUK7I"
      },
      "source": [
        "**For loops can be assigned a range and increment value.**"
      ]
    },
    {
      "cell_type": "code",
      "metadata": {
        "id": "kv5ypFUlVQZk"
      },
      "source": [
        "#Example of for loop with a range and\n",
        "#increment value\n",
        "\n",
        "#Print the every 5th integer from 10 - 50 \n",
        "for x in range(10,50,5):\n",
        "  print(x)"
      ],
      "execution_count": null,
      "outputs": []
    },
    {
      "cell_type": "markdown",
      "metadata": {
        "id": "3F3n77FhVhxg"
      },
      "source": [
        "# **Assignment #3<br>**\n",
        "Use a 'for' loop to print every third integer from 30 to 60, inclusive\n"
      ]
    },
    {
      "cell_type": "code",
      "metadata": {
        "id": "z0B34x0SV6Xo"
      },
      "source": [
        "#Assignment #3\n",
        "\n",
        "#TODO\n"
      ],
      "execution_count": null,
      "outputs": []
    },
    {
      "cell_type": "markdown",
      "metadata": {
        "id": "lSotk3Z0pKde"
      },
      "source": [
        "**Debug Exercise**<br>\n",
        "Fix the code below"
      ]
    },
    {
      "cell_type": "code",
      "metadata": {
        "id": "8Vn5pqiOo5JW"
      },
      "source": [
        "for x in range(10, 20.5, 2.5):\n",
        "  print(x)"
      ],
      "execution_count": null,
      "outputs": []
    },
    {
      "cell_type": "markdown",
      "metadata": {
        "id": "nOUJULL8V-jm"
      },
      "source": [
        "**Using the 'else' statement with a for loop.**<br>\n",
        "An 'else' statement can be used with a for loop. <br>\n",
        "The example below uses an else statement, but it is not a very good example. Why? "
      ]
    },
    {
      "cell_type": "code",
      "metadata": {
        "id": "Xx2ZI6ZKWoCR"
      },
      "source": [
        "for number in range(5):\n",
        "  print(number)\n",
        "else: \n",
        "  print(\"Done\")"
      ],
      "execution_count": null,
      "outputs": []
    },
    {
      "cell_type": "markdown",
      "metadata": {
        "id": "jEWAsF6DjIP3"
      },
      "source": [
        "A better example of using an 'else' statement with a for loop. "
      ]
    },
    {
      "cell_type": "code",
      "metadata": {
        "id": "iQ1GWqpkjfuo"
      },
      "source": [
        "number_of_a = 0\n",
        "number_of_others = 0\n",
        "sentence = \"I'm going to make him an offer he can't refuse\"\n",
        "for x in sentence: \n",
        "  if x== 'a': \n",
        "    number_of_a  = number_of_a  + 1\n",
        "  else: \n",
        "    number_of_others = number_of_others + 1\n",
        "print(\"there are \", number_of_a, \"a's in sentence\")\n",
        "print(\"there are \", number_of_others, \"other characters\")"
      ],
      "execution_count": null,
      "outputs": []
    },
    {
      "cell_type": "markdown",
      "metadata": {
        "id": "Fssiz_Mkb89W"
      },
      "source": [
        "# **Assignment #4**\n",
        "\n",
        "Modify the code to print the total number of characters in the sentence. \n"
      ]
    },
    {
      "cell_type": "code",
      "metadata": {
        "id": "A9s7JZH6cK8A"
      },
      "source": [
        "#Assignment #4\n",
        "\n"
      ],
      "execution_count": null,
      "outputs": []
    },
    {
      "cell_type": "markdown",
      "metadata": {
        "id": "W849Ytrfpe1L"
      },
      "source": [
        "# **Assignment #5**\n",
        "1. Print the characters in this sentence:\n",
        ">The rain in Spain falls mainly in the plain. \n",
        "2. Count all the letters, ignoring the blank spaces\n",
        "3. Print out the number of letters in the sentence"
      ]
    },
    {
      "cell_type": "code",
      "metadata": {
        "id": "T-xIFEdsp7Nn"
      },
      "source": [
        "#Assignment 5\n",
        "\n",
        "#TODO\n"
      ],
      "execution_count": null,
      "outputs": []
    },
    {
      "cell_type": "markdown",
      "metadata": {
        "id": "zGbaj0YSbPtY"
      },
      "source": [
        "# **Quiz**"
      ]
    },
    {
      "cell_type": "code",
      "metadata": {
        "id": "E2x_KYAMc3VC"
      },
      "source": [
        "page(5)"
      ],
      "execution_count": null,
      "outputs": []
    },
    {
      "cell_type": "code",
      "metadata": {
        "id": "IrIOe6N3dOHg",
        "cellView": "form"
      },
      "source": [
        "#@title Q1\n",
        "variable_name = \"multiples of three\" #@param [\"every third number in scores\", \"multiples of three\", \"nothing, there is an error in the code\", \"nothing, none of the scores satisfy the conditional statement\"]\n",
        "if(variable_name == \"multiples of three\"):\n",
        "  print(\"correct\")\n",
        "else:\n",
        "  print(\"Please try again\")"
      ],
      "execution_count": null,
      "outputs": []
    },
    {
      "cell_type": "markdown",
      "metadata": {
        "id": "pF9JO7rup_G3"
      },
      "source": [
        "**Debug Exercise**\n",
        "Fix the code below\n"
      ]
    },
    {
      "cell_type": "code",
      "metadata": {
        "id": "JFkydWANqFUV"
      },
      "source": [
        "vowel_counts = {}\n",
        "count = 0\n",
        "\n",
        "sentence = \"The quick brown fox jumps over the lazy dog\"\n",
        "for letter in sentence:\n",
        "  letter = letter.lower()\n",
        "  if vowel in \"aeiou\":\n",
        "    count = count + 1\n",
        "    vowel_counts[count] = vowel\n",
        "else:\n",
        "  print(\"\\n\",vowel_counts)"
      ],
      "execution_count": null,
      "outputs": []
    },
    {
      "cell_type": "markdown",
      "metadata": {
        "id": "VVKbTP32qeZA"
      },
      "source": [
        "# **Assignment #6**\n",
        "1. Create a List with the following words:\n",
        ">dog, cat, bunny, goat, cow, giraffe, pig, chicken\n",
        "2. Count the animals in the list. \n",
        "3. If the word giraffe is in the list print \"A giraffe is Not domesticated!\"\n",
        "\n"
      ]
    },
    {
      "cell_type": "code",
      "metadata": {
        "id": "GO8VmfkWmgPo"
      },
      "source": [
        "#Assignment #6\n"
      ],
      "execution_count": null,
      "outputs": []
    },
    {
      "cell_type": "markdown",
      "metadata": {
        "id": "kuIHQNrZmm0D"
      },
      "source": [
        "**The pass statement**\n",
        "\n",
        "When an external condition is triggered, the pass statement allows you to handle the condition without the loop being impacted in any way; all of the code will continue to be read unless a break or other statement occurs.\n",
        "\n",
        "The pass statement can act as a placeholder when working on new code and thinking on an algorithmic level before hammering out details"
      ]
    },
    {
      "cell_type": "code",
      "metadata": {
        "id": "fUct8_ytbje7"
      },
      "source": [
        "#Example of code that uses PASS\n",
        "number = 0\n",
        "\n",
        "for number in range(10):\n",
        "    if number == 5:\n",
        "        pass    # pass here\n",
        "    print('Number is ' + str(number))\n",
        "print('Out of loop')\n"
      ],
      "execution_count": null,
      "outputs": []
    },
    {
      "cell_type": "code",
      "metadata": {
        "id": "TIvjpmGTmnAQ"
      },
      "source": [
        "#example of a pass statement\n",
        "for i in range(20, 30):\n",
        "  pass\n",
        "print(\"done\")"
      ],
      "execution_count": null,
      "outputs": []
    },
    {
      "cell_type": "code",
      "metadata": {
        "id": "BLEeJsBIwC6n"
      },
      "source": [
        "#example of a pass statement\n",
        "sentence = \"They call him the Spaniard\"\n",
        "count_l = 0\n",
        "count_t = 0 \n",
        "\n",
        "for letter in sentence: \n",
        "  if letter == \"l\":\n",
        "    count_l = count_l + 1\n",
        "  elif letter == \"t\":\n",
        "    count_t = count_t + 1\n",
        "  else:\n",
        "    pass\n",
        "print(\"number of ls = \", count_l)\n",
        "print(\"number of ts = \", count_t)\n",
        "\n"
      ],
      "execution_count": null,
      "outputs": []
    },
    {
      "cell_type": "markdown",
      "metadata": {
        "id": "EFjNl3uIccTI"
      },
      "source": [
        "**Nested For Loops**\n",
        "Nested loops are useful when for each pass through the outer loop, you need to repeat some action on the data in the outer loop."
      ]
    },
    {
      "cell_type": "code",
      "metadata": {
        "id": "j2ro8TMKcrtX"
      },
      "source": [
        "n=5;\n",
        "#Create i rows\n",
        "for i in range(n):\n",
        "    #For each row add another character \n",
        "    for j in range(i):\n",
        "        print ('j ', end=\"\")\n",
        "    print('')"
      ],
      "execution_count": null,
      "outputs": []
    },
    {
      "cell_type": "markdown",
      "metadata": {
        "id": "75B_GA0rd7xw"
      },
      "source": [
        "# **Assignment #10**\n",
        "Using nested for loops, create the following shape:\n",
        "\n",
        "\n",
        "bbbbbbbbbb<br>\n",
        "bbbbbbbbb<br>\n",
        "bbbbbbbb<br>\n",
        "bbbbbbb<br>\n",
        "bbbbbb<br>\n",
        "bbbbb<br>\n",
        "bbbb<br>\n",
        "bbb<br>\n",
        "bb<br>\n",
        "b<br>"
      ]
    },
    {
      "cell_type": "code",
      "metadata": {
        "id": "0_veLUoolkyl"
      },
      "source": [
        "#Assignment #10"
      ],
      "execution_count": null,
      "outputs": []
    }
  ]
}