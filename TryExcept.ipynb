{
  "nbformat": 4,
  "nbformat_minor": 0,
  "metadata": {
    "colab": {
      "name": "TryExcept.ipynb",
      "provenance": [],
      "authorship_tag": "ABX9TyMbpOZHSV+vi5FUNN3B3d9c",
      "include_colab_link": true
    },
    "kernelspec": {
      "name": "python3",
      "display_name": "Python 3"
    }
  },
  "cells": [
    {
      "cell_type": "markdown",
      "metadata": {
        "id": "view-in-github",
        "colab_type": "text"
      },
      "source": [
        "<a href=\"https://colab.research.google.com/github/deltiin/Introduction-To-Python-Programming/blob/master/TryExcept.ipynb\" target=\"_parent\"><img src=\"https://colab.research.google.com/assets/colab-badge.svg\" alt=\"Open In Colab\"/></a>"
      ]
    },
    {
      "cell_type": "markdown",
      "metadata": {
        "id": "LmjBYs2rM4Hh"
      },
      "source": [
        "#Try Except\r\n",
        "The `try` block lets you test a block of code for errors.\r\n",
        "\r\n",
        "The `except` block lets you handle the error.\r\n",
        "\r\n",
        "The finally block lets you execute code, regardless of the result of the try- and except blocks."
      ]
    },
    {
      "cell_type": "markdown",
      "metadata": {
        "id": "4Dr2O91VNBTo"
      },
      "source": [
        "#Exception Handling\r\n",
        "When an error occurs, or exception as we call it, Python will normally stop and generate an error message.\r\n",
        "\r\n",
        "These exceptions can be handled using the try statement:"
      ]
    },
    {
      "cell_type": "code",
      "metadata": {
        "id": "okV6NejuM64Y"
      },
      "source": [
        "print(x)"
      ],
      "execution_count": null,
      "outputs": []
    },
    {
      "cell_type": "code",
      "metadata": {
        "id": "9c7oftJFNA_j"
      },
      "source": [
        "try:\r\n",
        "  print(x)\r\n",
        "except:\r\n",
        "  print(\"An exception occurred\")"
      ],
      "execution_count": null,
      "outputs": []
    },
    {
      "cell_type": "code",
      "metadata": {
        "id": "I_Wcg38XNM_N"
      },
      "source": [
        "try:\r\n",
        "  print(x)\r\n",
        "except NameError:\r\n",
        "  print(\"Variable x is not defined\")\r\n",
        "except:\r\n",
        "  print(\"Something else went wrong\")"
      ],
      "execution_count": null,
      "outputs": []
    },
    {
      "cell_type": "markdown",
      "metadata": {
        "id": "OOXCnNxkNREu"
      },
      "source": [
        "#Else\r\n",
        "You can use the else keyword to define a block of code to be executed if no errors were raised:"
      ]
    },
    {
      "cell_type": "code",
      "metadata": {
        "id": "X04PSmhRNSw0"
      },
      "source": [
        "try:\r\n",
        "  print(\"Hello\")\r\n",
        "except:\r\n",
        "  print(\"Something went wrong\")\r\n",
        "else:\r\n",
        "  print(\"Nothing went wrong\")"
      ],
      "execution_count": null,
      "outputs": []
    },
    {
      "cell_type": "markdown",
      "metadata": {
        "id": "4tHQwWUANczW"
      },
      "source": [
        "#Finally\r\n",
        "The finally block, if specified, will be executed regardless if the try block raises an error or not."
      ]
    },
    {
      "cell_type": "code",
      "metadata": {
        "id": "7RMYoeP5NcI_"
      },
      "source": [
        "try:\r\n",
        "  print(x)\r\n",
        "except:\r\n",
        "  print(\"Something went wrong\")\r\n",
        "finally:\r\n",
        "  print(\"The 'try except' is finished\")"
      ],
      "execution_count": null,
      "outputs": []
    },
    {
      "cell_type": "code",
      "metadata": {
        "id": "Dkl7GSkDNlLY"
      },
      "source": [
        "try:\r\n",
        "  f = open(\"demofile.txt\")\r\n",
        "  f.write(\"Lorum Ipsum\")\r\n",
        "except:\r\n",
        "  print(\"Something went wrong when writing to the file\")\r\n",
        "finally:\r\n",
        "  f.close()"
      ],
      "execution_count": null,
      "outputs": []
    },
    {
      "cell_type": "markdown",
      "metadata": {
        "id": "Db_2vR-GNoSs"
      },
      "source": [
        "#Raise an exception\r\n",
        "As a Python developer you can choose to throw an exception if a condition occurs.\r\n",
        "\r\n",
        "To throw (or raise) an exception, use the raise keyword."
      ]
    },
    {
      "cell_type": "code",
      "metadata": {
        "id": "ajFqJz2bNqBG"
      },
      "source": [
        "x = -1\r\n",
        "\r\n",
        "if x < 0:\r\n",
        "  raise Exception(\"Sorry, no numbers below zero\")"
      ],
      "execution_count": null,
      "outputs": []
    },
    {
      "cell_type": "code",
      "metadata": {
        "id": "ZF2GlGGzNuw_"
      },
      "source": [
        "x = \"hello\"\r\n",
        "\r\n",
        "if not type(x) is int:\r\n",
        "  raise TypeError(\"Only integers are allowed\")"
      ],
      "execution_count": null,
      "outputs": []
    }
  ]
}