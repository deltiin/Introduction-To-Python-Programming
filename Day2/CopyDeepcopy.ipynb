{
  "nbformat": 4,
  "nbformat_minor": 0,
  "metadata": {
    "colab": {
      "name": "CopyDeepcopy.ipynb",
      "provenance": []
    },
    "kernelspec": {
      "name": "python3",
      "display_name": "Python 3"
    }
  },
  "cells": [
    {
      "cell_type": "code",
      "metadata": {
        "id": "aj5Tw1yOv5VE"
      },
      "source": [
        "a = 10\r\n",
        "b = a\r\n",
        "print('Old a: ',a)\r\n",
        "print('Old b: ',b)\r\n",
        "a = 15\r\n",
        "print('New a: ',a)\r\n",
        "print('New b: ',b)\r\n",
        "print(id(a))\r\n",
        "print(id(b))"
      ],
      "execution_count": null,
      "outputs": []
    },
    {
      "cell_type": "code",
      "metadata": {
        "id": "aJUOamuPwqwg"
      },
      "source": [
        "old_list = [[1,2,3], [4,5,6], [7,8,9]]\r\n",
        "new_list = old_list\r\n",
        "print('Old List:', old_list)\r\n",
        "print('New List:', new_list)\r\n",
        "print('Old list id:', id(old_list))\r\n",
        "print('New list id:', id(new_list))\r\n",
        "old_list[0][1] = 22\r\n",
        "print('Old List:', old_list)\r\n",
        "print('New List:', new_list)\r\n",
        "new_list[0][2] = 33\r\n",
        "print('Old List:', old_list)\r\n",
        "print('New List:', new_list)"
      ],
      "execution_count": null,
      "outputs": []
    },
    {
      "cell_type": "code",
      "metadata": {
        "id": "9ZVgkT5Ow4iX"
      },
      "source": [
        "import copy\r\n",
        "# copy.copy()\r\n",
        "# copy.deepcopy()"
      ],
      "execution_count": 19,
      "outputs": []
    },
    {
      "cell_type": "code",
      "metadata": {
        "id": "bIvn_7dJyIBw"
      },
      "source": [
        "old_list = [[1,2,3], [4,5,6], [7,8,9]]\r\n",
        "new_list = copy.copy(old_list)\r\n",
        "\r\n",
        "print('Old List:', old_list)\r\n",
        "print('New List:', new_list)"
      ],
      "execution_count": null,
      "outputs": []
    },
    {
      "cell_type": "code",
      "metadata": {
        "id": "1Uf1qm99yY-t"
      },
      "source": [
        "old_list.append([10,11,12])\r\n",
        "\r\n",
        "print('Old List:', old_list)\r\n",
        "print('New List:', new_list)"
      ],
      "execution_count": null,
      "outputs": []
    },
    {
      "cell_type": "code",
      "metadata": {
        "id": "EgjeJ1kuyvVE"
      },
      "source": [
        "old_list[0][1] = 22\r\n",
        "\r\n",
        "print('Old List:', old_list)\r\n",
        "print('New List:', new_list)"
      ],
      "execution_count": null,
      "outputs": []
    },
    {
      "cell_type": "code",
      "metadata": {
        "colab": {
          "base_uri": "https://localhost:8080/"
        },
        "id": "K5K65jq1zOR_",
        "outputId": "e7985aef-6bb0-4e56-cbf2-4427f70d234e"
      },
      "source": [
        "old_list = [[1,2,3], [4,5,6], [7,8,9]]\r\n",
        "new_list = copy.deepcopy(old_list)\r\n",
        "\r\n",
        "print('Old List:', old_list)\r\n",
        "print('New List:', new_list)\r\n",
        "print('Old list id:', id(old_list))\r\n",
        "print('New list id:', id(new_list))"
      ],
      "execution_count": 22,
      "outputs": [
        {
          "output_type": "stream",
          "text": [
            "Old List: [[1, 2, 3], [4, 5, 6], [7, 8, 9]]\n",
            "New List: [[1, 2, 3], [4, 5, 6], [7, 8, 9]]\n",
            "Old list id: 140117377780616\n",
            "New list id: 140117377546184\n"
          ],
          "name": "stdout"
        }
      ]
    },
    {
      "cell_type": "code",
      "metadata": {
        "colab": {
          "base_uri": "https://localhost:8080/"
        },
        "id": "36OomSeuzfxR",
        "outputId": "22d5656b-74b5-4cca-b7fe-d811b495ab1f"
      },
      "source": [
        "old_list[0][1] = 22\r\n",
        "\r\n",
        "print('Old List:', old_list)\r\n",
        "print('New List:', new_list)"
      ],
      "execution_count": 24,
      "outputs": [
        {
          "output_type": "stream",
          "text": [
            "Old List: [[1, 22, 3], [4, 5, 6], [7, 8, 9]]\n",
            "New List: [[1, 2, 3], [4, 5, 6], [7, 8, 9]]\n"
          ],
          "name": "stdout"
        }
      ]
    },
    {
      "cell_type": "code",
      "metadata": {
        "colab": {
          "base_uri": "https://localhost:8080/"
        },
        "id": "ENsPByX7zpPk",
        "outputId": "ce51dd77-ef07-4911-bcb0-9ec227e28d48"
      },
      "source": [
        "old_list.append([10,11,12])\r\n",
        "print('Old List:', old_list)\r\n",
        "print('New List:', new_list)"
      ],
      "execution_count": 26,
      "outputs": [
        {
          "output_type": "stream",
          "text": [
            "Old List: [[1, 22, 3], [4, 5, 6], [7, 8, 9], [10, 11, 12], [10, 11, 12]]\n",
            "New List: [[1, 2, 3], [4, 5, 6], [7, 8, 9]]\n"
          ],
          "name": "stdout"
        }
      ]
    },
    {
      "cell_type": "code",
      "metadata": {
        "colab": {
          "base_uri": "https://localhost:8080/"
        },
        "id": "_rSY9ChCzvGK",
        "outputId": "f6236350-d613-4917-e71f-08a3dc8f1bd4"
      },
      "source": [
        "new_list.append([100,200,300])\r\n",
        "print('Old List:', old_list)\r\n",
        "print('New List:', new_list)"
      ],
      "execution_count": 27,
      "outputs": [
        {
          "output_type": "stream",
          "text": [
            "Old List: [[1, 22, 3], [4, 5, 6], [7, 8, 9], [10, 11, 12], [10, 11, 12]]\n",
            "New List: [[1, 2, 3], [4, 5, 6], [7, 8, 9], [100, 200, 300]]\n"
          ],
          "name": "stdout"
        }
      ]
    }
  ]
}