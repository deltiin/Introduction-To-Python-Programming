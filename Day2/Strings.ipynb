{
  "nbformat": 4,
  "nbformat_minor": 0,
  "metadata": {
    "colab": {
      "name": "Strings.ipynb",
      "provenance": []
    },
    "kernelspec": {
      "name": "python3",
      "display_name": "Python 3"
    }
  },
  "cells": [
    {
      "cell_type": "code",
      "metadata": {
        "colab": {
          "base_uri": "https://localhost:8080/"
        },
        "id": "BprcHEfUhnn1",
        "outputId": "20c463ca-0217-4f4a-c8b4-0d65bdeb89e7"
      },
      "source": [
        "a = \"Hello World!\"\r\n",
        "print(a)"
      ],
      "execution_count": 6,
      "outputs": [
        {
          "output_type": "stream",
          "text": [
            "Hello World!\n"
          ],
          "name": "stdout"
        }
      ]
    },
    {
      "cell_type": "markdown",
      "metadata": {
        "id": "EDaFlBV1i8Qe"
      },
      "source": [
        "#Length of String"
      ]
    },
    {
      "cell_type": "code",
      "metadata": {
        "id": "OVB4IZLPi6m8"
      },
      "source": [
        "print(len(a))"
      ],
      "execution_count": null,
      "outputs": []
    },
    {
      "cell_type": "markdown",
      "metadata": {
        "id": "BgHJ2RBmjCmn"
      },
      "source": [
        "#Looping through the strings"
      ]
    },
    {
      "cell_type": "code",
      "metadata": {
        "colab": {
          "base_uri": "https://localhost:8080/"
        },
        "id": "xYjJR2yQjH6h",
        "outputId": "f114bbf0-14e3-44ec-8b74-725b8f214644"
      },
      "source": [
        "word = \"Hello World!\"\r\n",
        "for letter in word:\r\n",
        "  print(letter)"
      ],
      "execution_count": 7,
      "outputs": [
        {
          "output_type": "stream",
          "text": [
            "H\n",
            "e\n",
            "l\n",
            "l\n",
            "o\n",
            " \n",
            "W\n",
            "o\n",
            "r\n",
            "l\n",
            "d\n",
            "!\n"
          ],
          "name": "stdout"
        }
      ]
    },
    {
      "cell_type": "markdown",
      "metadata": {
        "id": "bsH_onsLjd1I"
      },
      "source": [
        "#Check Strings"
      ]
    },
    {
      "cell_type": "code",
      "metadata": {
        "colab": {
          "base_uri": "https://localhost:8080/"
        },
        "id": "Mb4tTtJpjgEw",
        "outputId": "dc8dfcd2-bfda-4447-df20-c7552470d4fb"
      },
      "source": [
        "sentence = \"Apple is my favourite fruit\"\r\n",
        "word = 'Apple'\r\n",
        "if word in sentence:\r\n",
        "  print('Apple is present in the sentence')\r\n",
        "\r\n",
        "a = (1,2,3,4,5)\r\n",
        "if 3 in a:\r\n",
        "  print(True)"
      ],
      "execution_count": 12,
      "outputs": [
        {
          "output_type": "stream",
          "text": [
            "Apple is present in the sentence\n",
            "True\n"
          ],
          "name": "stdout"
        }
      ]
    },
    {
      "cell_type": "markdown",
      "metadata": {
        "id": "mKpADN1okXZP"
      },
      "source": [
        "#Slicing"
      ]
    },
    {
      "cell_type": "code",
      "metadata": {
        "colab": {
          "base_uri": "https://localhost:8080/"
        },
        "id": "CNtQYwOwkZuZ",
        "outputId": "85072f1c-36b3-4822-cd9c-d5e23248bc57"
      },
      "source": [
        "#Positive Index\r\n",
        "b = \"Hello World!\"\r\n",
        "print(len(b))\r\n",
        "print(b[0:5])\r\n",
        "print(b[:5])\r\n",
        "print(b[6:12])\r\n",
        "print(b[6:])\r\n",
        "print(b[3:8])\r\n",
        "print(b[::3])"
      ],
      "execution_count": 23,
      "outputs": [
        {
          "output_type": "stream",
          "text": [
            "12\n",
            "Hello\n",
            "Hello\n",
            "World!\n",
            "World!\n",
            "lo Wo\n",
            "HlWl\n"
          ],
          "name": "stdout"
        }
      ]
    },
    {
      "cell_type": "code",
      "metadata": {
        "colab": {
          "base_uri": "https://localhost:8080/"
        },
        "id": "aK6yPqk1mdr1",
        "outputId": "f6086001-3cde-4ec4-fd89-b8f979079f28"
      },
      "source": [
        "#Negative Index\r\n",
        "b = \"Hello World!\"\r\n",
        "print(len(b))\r\n",
        "print(b[-5:-2])\r\n",
        "print(b[::-1]) #Reversing of the string"
      ],
      "execution_count": 28,
      "outputs": [
        {
          "output_type": "stream",
          "text": [
            "12\n",
            "orl\n",
            "!dlroW olleH\n"
          ],
          "name": "stdout"
        }
      ]
    },
    {
      "cell_type": "markdown",
      "metadata": {
        "id": "f4kjTs4InUVu"
      },
      "source": [
        "#Upper Case"
      ]
    },
    {
      "cell_type": "code",
      "metadata": {
        "colab": {
          "base_uri": "https://localhost:8080/",
          "height": 35
        },
        "id": "WERRVCKNnS6T",
        "outputId": "af437637-ff75-46ac-b186-9fcdd2e1be4e"
      },
      "source": [
        "a = \"Hello World!\"\r\n",
        "a.upper()"
      ],
      "execution_count": 29,
      "outputs": [
        {
          "output_type": "execute_result",
          "data": {
            "application/vnd.google.colaboratory.intrinsic+json": {
              "type": "string"
            },
            "text/plain": [
              "'HELLO WORLD!'"
            ]
          },
          "metadata": {
            "tags": []
          },
          "execution_count": 29
        }
      ]
    },
    {
      "cell_type": "markdown",
      "metadata": {
        "id": "zAwnqlV6nkS3"
      },
      "source": [
        "#Lower Case"
      ]
    },
    {
      "cell_type": "code",
      "metadata": {
        "colab": {
          "base_uri": "https://localhost:8080/"
        },
        "id": "GduJ6PdJnjmo",
        "outputId": "96ff3611-a095-4970-b9f9-295a84c19d70"
      },
      "source": [
        "a = \"Hello World!\"\r\n",
        "print(a.lower())\r\n",
        "print(a.upper())"
      ],
      "execution_count": 32,
      "outputs": [
        {
          "output_type": "stream",
          "text": [
            "hello world!\n",
            "HELLO WORLD!\n"
          ],
          "name": "stdout"
        }
      ]
    },
    {
      "cell_type": "markdown",
      "metadata": {
        "id": "nJujSFGPn8pj"
      },
      "source": [
        "#Count Characters"
      ]
    },
    {
      "cell_type": "code",
      "metadata": {
        "colab": {
          "base_uri": "https://localhost:8080/"
        },
        "id": "gbJaiwacn_gX",
        "outputId": "c1564c68-a4d1-47e1-cf43-fd99dd174a59"
      },
      "source": [
        "txt = 'Delhi is the capital of India. Delhi is highly populated city'\r\n",
        "c = txt.count('e')\r\n",
        "print(c)"
      ],
      "execution_count": 34,
      "outputs": [
        {
          "output_type": "stream",
          "text": [
            "4\n"
          ],
          "name": "stdout"
        }
      ]
    },
    {
      "cell_type": "markdown",
      "metadata": {
        "id": "qIl9NlzyohS1"
      },
      "source": [
        "#Remove Whitespace"
      ]
    },
    {
      "cell_type": "code",
      "metadata": {
        "colab": {
          "base_uri": "https://localhost:8080/",
          "height": 35
        },
        "id": "G20N0LzXopmJ",
        "outputId": "6ac429b5-21e0-4104-f1f3-102fc40fffa3"
      },
      "source": [
        "a = ' Hello World! '\r\n",
        "a.strip()"
      ],
      "execution_count": 37,
      "outputs": [
        {
          "output_type": "execute_result",
          "data": {
            "application/vnd.google.colaboratory.intrinsic+json": {
              "type": "string"
            },
            "text/plain": [
              "'Hello World!'"
            ]
          },
          "metadata": {
            "tags": []
          },
          "execution_count": 37
        }
      ]
    },
    {
      "cell_type": "code",
      "metadata": {
        "id": "H-IPcMsDrCrf"
      },
      "source": [
        ""
      ],
      "execution_count": null,
      "outputs": []
    },
    {
      "cell_type": "markdown",
      "metadata": {
        "id": "PccZ4yMso77O"
      },
      "source": [
        "#Replace String"
      ]
    },
    {
      "cell_type": "code",
      "metadata": {
        "colab": {
          "base_uri": "https://localhost:8080/",
          "height": 35
        },
        "id": "bWDjRIF0o_dd",
        "outputId": "f497920b-6bd6-4ada-fe45-22e41d915728"
      },
      "source": [
        "a = 'Hello World!'\r\n",
        "a.replace('Hello', 'J')"
      ],
      "execution_count": 39,
      "outputs": [
        {
          "output_type": "execute_result",
          "data": {
            "application/vnd.google.colaboratory.intrinsic+json": {
              "type": "string"
            },
            "text/plain": [
              "'J World!'"
            ]
          },
          "metadata": {
            "tags": []
          },
          "execution_count": 39
        }
      ]
    },
    {
      "cell_type": "markdown",
      "metadata": {
        "id": "2PiWgbT5pU8a"
      },
      "source": [
        "#Split String"
      ]
    },
    {
      "cell_type": "code",
      "metadata": {
        "colab": {
          "base_uri": "https://localhost:8080/"
        },
        "id": "f98z0eB1pb__",
        "outputId": "3c4dd17d-1e8f-45bd-9752-a3238c01608f"
      },
      "source": [
        "a = 'Hello# World!'\r\n",
        "print(a.split('#'))"
      ],
      "execution_count": 42,
      "outputs": [
        {
          "output_type": "stream",
          "text": [
            "['Hello', ' World!']\n"
          ],
          "name": "stdout"
        }
      ]
    },
    {
      "cell_type": "markdown",
      "metadata": {
        "id": "pNVpSr3sqF6A"
      },
      "source": [
        "#join() Method"
      ]
    },
    {
      "cell_type": "code",
      "metadata": {
        "colab": {
          "base_uri": "https://localhost:8080/"
        },
        "id": "NclQ1l3iqIFo",
        "outputId": "4a2117c6-af1f-4c22-f48a-7865b74045c9"
      },
      "source": [
        "listA = ['Hello', 'World!', 'HNY2021!'\r\n",
        "a = ', '.join(listA) #HelloWorld\r\n",
        "print(a)"
      ],
      "execution_count": 51,
      "outputs": [
        {
          "output_type": "stream",
          "text": [
            "Hello, World!, HNY2021!\n"
          ],
          "name": "stdout"
        }
      ]
    },
    {
      "cell_type": "markdown",
      "metadata": {
        "id": "JE_FeBvFrAm6"
      },
      "source": [
        "#String Concatenation"
      ]
    },
    {
      "cell_type": "code",
      "metadata": {
        "colab": {
          "base_uri": "https://localhost:8080/"
        },
        "id": "_d_5RfaWrEMD",
        "outputId": "1c15bd68-5676-48fa-8b29-d577f27afa37"
      },
      "source": [
        "a = 'Hello'\r\n",
        "b = ' World'\r\n",
        "c = a + b\r\n",
        "print(c)\r\n",
        "print(type(a))"
      ],
      "execution_count": 54,
      "outputs": [
        {
          "output_type": "stream",
          "text": [
            "Hello World\n",
            "<class 'str'>\n"
          ],
          "name": "stdout"
        }
      ]
    },
    {
      "cell_type": "code",
      "metadata": {
        "colab": {
          "base_uri": "https://localhost:8080/",
          "height": 229
        },
        "id": "lx4xmSqarVVp",
        "outputId": "d1de0b2d-154b-4c40-ad5d-015b252a8aa2"
      },
      "source": [
        "print('Happy New Year', 2021)\r\n",
        "a = 'Happy New Year'\r\n",
        "b = 2021\r\n",
        "c = a+b\r\n",
        "print(c)"
      ],
      "execution_count": 56,
      "outputs": [
        {
          "output_type": "stream",
          "text": [
            "Happy New Year 2021\n"
          ],
          "name": "stdout"
        },
        {
          "output_type": "error",
          "ename": "TypeError",
          "evalue": "ignored",
          "traceback": [
            "\u001b[0;31m---------------------------------------------------------------------------\u001b[0m",
            "\u001b[0;31mTypeError\u001b[0m                                 Traceback (most recent call last)",
            "\u001b[0;32m<ipython-input-56-2452bf1988db>\u001b[0m in \u001b[0;36m<module>\u001b[0;34m()\u001b[0m\n\u001b[1;32m      2\u001b[0m \u001b[0ma\u001b[0m \u001b[0;34m=\u001b[0m \u001b[0;34m'Happy New Year'\u001b[0m\u001b[0;34m\u001b[0m\u001b[0;34m\u001b[0m\u001b[0m\n\u001b[1;32m      3\u001b[0m \u001b[0mb\u001b[0m \u001b[0;34m=\u001b[0m \u001b[0;36m2021\u001b[0m\u001b[0;34m\u001b[0m\u001b[0;34m\u001b[0m\u001b[0m\n\u001b[0;32m----> 4\u001b[0;31m \u001b[0mc\u001b[0m \u001b[0;34m=\u001b[0m \u001b[0ma\u001b[0m\u001b[0;34m+\u001b[0m\u001b[0mb\u001b[0m\u001b[0;34m\u001b[0m\u001b[0;34m\u001b[0m\u001b[0m\n\u001b[0m\u001b[1;32m      5\u001b[0m \u001b[0mprint\u001b[0m\u001b[0;34m(\u001b[0m\u001b[0mc\u001b[0m\u001b[0;34m)\u001b[0m\u001b[0;34m\u001b[0m\u001b[0;34m\u001b[0m\u001b[0m\n",
            "\u001b[0;31mTypeError\u001b[0m: must be str, not int"
          ]
        }
      ]
    },
    {
      "cell_type": "markdown",
      "metadata": {
        "id": "vXXL6ixXrUuc"
      },
      "source": [
        "#String Formats"
      ]
    },
    {
      "cell_type": "code",
      "metadata": {
        "colab": {
          "base_uri": "https://localhost:8080/"
        },
        "id": "CHhbAiTGr1Wz",
        "outputId": "25373ac6-b089-4d03-9d62-be6d138bbc3a"
      },
      "source": [
        "year = 2021\r\n",
        "txt = \"Happy New Year {}\"\r\n",
        "print(txt.format(year))"
      ],
      "execution_count": 57,
      "outputs": [
        {
          "output_type": "stream",
          "text": [
            "Happy New Year 2021\n"
          ],
          "name": "stdout"
        }
      ]
    },
    {
      "cell_type": "code",
      "metadata": {
        "colab": {
          "base_uri": "https://localhost:8080/"
        },
        "id": "n1dx8coYsTro",
        "outputId": "157a6a76-7b2d-4fec-cde6-38c495f55a5f"
      },
      "source": [
        "date = 3\r\n",
        "month = 'January'\r\n",
        "year = 2021\r\n",
        "txt = \"Today's date is {} {} {}\"\r\n",
        "print(txt.format(date, month, year))"
      ],
      "execution_count": 58,
      "outputs": [
        {
          "output_type": "stream",
          "text": [
            "Today's date is 3 January 2021\n"
          ],
          "name": "stdout"
        }
      ]
    },
    {
      "cell_type": "code",
      "metadata": {
        "colab": {
          "base_uri": "https://localhost:8080/"
        },
        "id": "WucwIhWQsvn7",
        "outputId": "138ea782-ccea-4a5a-9a95-0aef546fe7b8"
      },
      "source": [
        "date = 3\r\n",
        "month = 'January'\r\n",
        "year = 2021\r\n",
        "txt = \"Today's date is {2} {1} {0}\"\r\n",
        "print(txt.format(date, month, year))"
      ],
      "execution_count": 60,
      "outputs": [
        {
          "output_type": "stream",
          "text": [
            "Today's date is 2021 January 3\n"
          ],
          "name": "stdout"
        }
      ]
    },
    {
      "cell_type": "markdown",
      "metadata": {
        "id": "KeqYtuDutQVE"
      },
      "source": [
        "#Escape Characters"
      ]
    },
    {
      "cell_type": "code",
      "metadata": {
        "colab": {
          "base_uri": "https://localhost:8080/",
          "height": 128
        },
        "id": "lGf3j3AwtT0x",
        "outputId": "bf796112-48be-4fed-e8be-d3af8c60e17f"
      },
      "source": [
        "txt = \"My name is \"Satyam\"\"\r\n",
        "print(txt)"
      ],
      "execution_count": 61,
      "outputs": [
        {
          "output_type": "error",
          "ename": "SyntaxError",
          "evalue": "ignored",
          "traceback": [
            "\u001b[0;36m  File \u001b[0;32m\"<ipython-input-61-f2fb1d70b5fa>\"\u001b[0;36m, line \u001b[0;32m1\u001b[0m\n\u001b[0;31m    txt = \"My name is \"Satyam\"\"\u001b[0m\n\u001b[0m                            ^\u001b[0m\n\u001b[0;31mSyntaxError\u001b[0m\u001b[0;31m:\u001b[0m invalid syntax\n"
          ]
        }
      ]
    },
    {
      "cell_type": "code",
      "metadata": {
        "colab": {
          "base_uri": "https://localhost:8080/"
        },
        "id": "no0EqV2RtpxH",
        "outputId": "582d24a4-f701-4361-8a83-e8651404e56a"
      },
      "source": [
        "# txt = \"My name is \\\"Satyam\\\"\"\r\n",
        "# print(txt)\r\n",
        "txt = \"C:\\\\Users\"\r\n",
        "print(txt)"
      ],
      "execution_count": 65,
      "outputs": [
        {
          "output_type": "stream",
          "text": [
            "C:\\Users\n"
          ],
          "name": "stdout"
        }
      ]
    },
    {
      "cell_type": "code",
      "metadata": {
        "colab": {
          "base_uri": "https://localhost:8080/"
        },
        "id": "zAilgY15uETL",
        "outputId": "bfcbfedd-0947-4fb4-c828-eaafe59e343d"
      },
      "source": [
        "print(\"Hello\\nWorld!\")"
      ],
      "execution_count": 66,
      "outputs": [
        {
          "output_type": "stream",
          "text": [
            "Hello\n",
            "World!\n"
          ],
          "name": "stdout"
        }
      ]
    }
  ]
}