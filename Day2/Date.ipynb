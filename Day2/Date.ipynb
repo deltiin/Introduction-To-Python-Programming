{
  "nbformat": 4,
  "nbformat_minor": 0,
  "metadata": {
    "colab": {
      "name": "Date.ipynb",
      "provenance": []
    },
    "kernelspec": {
      "name": "python3",
      "display_name": "Python 3"
    }
  },
  "cells": [
    {
      "cell_type": "code",
      "metadata": {
        "id": "J0fKPyuYnmhR"
      },
      "source": [
        "import time"
      ],
      "execution_count": 1,
      "outputs": []
    },
    {
      "cell_type": "code",
      "metadata": {
        "colab": {
          "base_uri": "https://localhost:8080/"
        },
        "id": "S9-pInX1n8KW",
        "outputId": "dd2d9434-bf73-4e37-9d5b-1cd24f9edf03"
      },
      "source": [
        "time.time()"
      ],
      "execution_count": 5,
      "outputs": [
        {
          "output_type": "execute_result",
          "data": {
            "text/plain": [
              "1609666974.9727352"
            ]
          },
          "metadata": {
            "tags": []
          },
          "execution_count": 5
        }
      ]
    },
    {
      "cell_type": "code",
      "metadata": {
        "colab": {
          "base_uri": "https://localhost:8080/"
        },
        "id": "jZVu-xbMoSRW",
        "outputId": "8230640d-2c27-480c-d1df-c43046a73412"
      },
      "source": [
        "print(\"Time 1\")\r\n",
        "t1 = time.time()\r\n",
        "time.sleep(5)\r\n",
        "t2 = time.time()\r\n",
        "print(\"Time 2\")\r\n",
        "print(t2-t1)"
      ],
      "execution_count": 7,
      "outputs": [
        {
          "output_type": "stream",
          "text": [
            "Time 1\n",
            "Time 2\n",
            "5.005279064178467\n"
          ],
          "name": "stdout"
        }
      ]
    },
    {
      "cell_type": "code",
      "metadata": {
        "id": "uOKk5Hjgo3Bl"
      },
      "source": [
        "from time import time, sleep"
      ],
      "execution_count": 9,
      "outputs": []
    },
    {
      "cell_type": "code",
      "metadata": {
        "colab": {
          "base_uri": "https://localhost:8080/"
        },
        "id": "cAZMfM1Go952",
        "outputId": "f900d92f-ede2-4cd3-9575-38535c64717f"
      },
      "source": [
        "print(\"Time 1\")\r\n",
        "t1 = time()\r\n",
        "sleep(5)\r\n",
        "t2 = time()\r\n",
        "print(\"Time 2\")\r\n",
        "print(t2-t1)"
      ],
      "execution_count": 10,
      "outputs": [
        {
          "output_type": "stream",
          "text": [
            "Time 1\n",
            "Time 2\n",
            "5.005260467529297\n"
          ],
          "name": "stdout"
        }
      ]
    },
    {
      "cell_type": "code",
      "metadata": {
        "colab": {
          "base_uri": "https://localhost:8080/"
        },
        "id": "6oAUPE3ZpTwi",
        "outputId": "8efebb81-c98a-45a8-af73-81d1e0a42d89"
      },
      "source": [
        "import datetime\r\n",
        "x = datetime.datetime.now()\r\n",
        "print(x)"
      ],
      "execution_count": 11,
      "outputs": [
        {
          "output_type": "stream",
          "text": [
            "2021-01-03 09:48:31.401698\n"
          ],
          "name": "stdout"
        }
      ]
    },
    {
      "cell_type": "code",
      "metadata": {
        "colab": {
          "base_uri": "https://localhost:8080/"
        },
        "id": "iSPMJo6MpoV6",
        "outputId": "e7a6af9e-1930-4386-c791-438e2fef228d"
      },
      "source": [
        "x = datetime.datetime(2021, 1, 1, 11, 1, 59)\r\n",
        "print(y)\r\n",
        "type(y)"
      ],
      "execution_count": 17,
      "outputs": [
        {
          "output_type": "stream",
          "text": [
            "2021-01-01 11:01:59\n"
          ],
          "name": "stdout"
        },
        {
          "output_type": "execute_result",
          "data": {
            "text/plain": [
              "datetime.datetime"
            ]
          },
          "metadata": {
            "tags": []
          },
          "execution_count": 17
        }
      ]
    },
    {
      "cell_type": "code",
      "metadata": {
        "colab": {
          "base_uri": "https://localhost:8080/"
        },
        "id": "nXmLg9l5qQ4M",
        "outputId": "58c46771-7b3f-4a9b-9b84-5cda75fd4f95"
      },
      "source": [
        "x = datetime.datetime.now()\r\n",
        "print(x)\r\n",
        "print(x.strftime(\"%A\"))"
      ],
      "execution_count": 21,
      "outputs": [
        {
          "output_type": "stream",
          "text": [
            "2021-01-03 09:53:52.966048\n",
            "Sunday\n"
          ],
          "name": "stdout"
        }
      ]
    },
    {
      "cell_type": "code",
      "metadata": {
        "colab": {
          "base_uri": "https://localhost:8080/"
        },
        "id": "XT5iyyKArD8_",
        "outputId": "eab523bf-44bb-415c-b7d4-a3a3ba8e4d87"
      },
      "source": [
        "x = datetime.datetime(2021, 1, 1, 11, 1, 59)\r\n",
        "y = datetime.datetime(2020, 12, 30, 11, 1, 50)\r\n",
        "z = x-y\r\n",
        "print(z)"
      ],
      "execution_count": 25,
      "outputs": [
        {
          "output_type": "stream",
          "text": [
            "2 days, 0:00:09\n"
          ],
          "name": "stdout"
        }
      ]
    }
  ]
}