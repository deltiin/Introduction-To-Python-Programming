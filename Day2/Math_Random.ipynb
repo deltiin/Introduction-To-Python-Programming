{
  "nbformat": 4,
  "nbformat_minor": 0,
  "metadata": {
    "colab": {
      "name": "Math_Random.ipynb",
      "provenance": []
    },
    "kernelspec": {
      "name": "python3",
      "display_name": "Python 3"
    }
  },
  "cells": [
    {
      "cell_type": "code",
      "metadata": {
        "id": "2WgMHkIEro_E"
      },
      "source": [
        "import math"
      ],
      "execution_count": 1,
      "outputs": []
    },
    {
      "cell_type": "code",
      "metadata": {
        "colab": {
          "base_uri": "https://localhost:8080/"
        },
        "id": "pCF8ZPSrr46W",
        "outputId": "f700d007-84d6-4615-b833-ace274d1c76b"
      },
      "source": [
        "math.pow(2,5)"
      ],
      "execution_count": 2,
      "outputs": [
        {
          "output_type": "execute_result",
          "data": {
            "text/plain": [
              "32.0"
            ]
          },
          "metadata": {
            "tags": []
          },
          "execution_count": 2
        }
      ]
    },
    {
      "cell_type": "code",
      "metadata": {
        "colab": {
          "base_uri": "https://localhost:8080/"
        },
        "id": "1WDFa-dSsL_H",
        "outputId": "901229c8-0984-49f5-fcb6-8a3f6554a521"
      },
      "source": [
        "a = 2.2\r\n",
        "print(math.ceil(a))\r\n",
        "print(math.floor(a))"
      ],
      "execution_count": 5,
      "outputs": [
        {
          "output_type": "stream",
          "text": [
            "3\n",
            "2\n"
          ],
          "name": "stdout"
        }
      ]
    },
    {
      "cell_type": "code",
      "metadata": {
        "colab": {
          "base_uri": "https://localhost:8080/"
        },
        "id": "z6kNzJbnsdDI",
        "outputId": "6a06b6cf-b9c9-4fc6-cf44-f0c5286e2e70"
      },
      "source": [
        "print(math.sqrt(9.9))"
      ],
      "execution_count": 10,
      "outputs": [
        {
          "output_type": "stream",
          "text": [
            "3.146426544510455\n"
          ],
          "name": "stdout"
        }
      ]
    },
    {
      "cell_type": "code",
      "metadata": {
        "colab": {
          "base_uri": "https://localhost:8080/"
        },
        "id": "5guyPjKrs50m",
        "outputId": "6c41c973-378d-4243-f444-762a08dc55c9"
      },
      "source": [
        "print(math.radians(90))"
      ],
      "execution_count": 13,
      "outputs": [
        {
          "output_type": "stream",
          "text": [
            "1.5707963267948966\n"
          ],
          "name": "stdout"
        }
      ]
    },
    {
      "cell_type": "code",
      "metadata": {
        "colab": {
          "base_uri": "https://localhost:8080/"
        },
        "id": "sBpCqg2TtEuN",
        "outputId": "9ae9f5d9-a934-41d3-ac6b-27055072b046"
      },
      "source": [
        "print(math.degrees(3.142))"
      ],
      "execution_count": 14,
      "outputs": [
        {
          "output_type": "stream",
          "text": [
            "180.02333923010465\n"
          ],
          "name": "stdout"
        }
      ]
    },
    {
      "cell_type": "code",
      "metadata": {
        "colab": {
          "base_uri": "https://localhost:8080/"
        },
        "id": "euvqFGurtOup",
        "outputId": "7f62c112-369d-4500-8750-4e4cb0857941"
      },
      "source": [
        "from math import sqrt, radians, sin, cos, tan, asin, acos, atan, pi\r\n",
        "\r\n",
        "print(sqrt(9))\r\n",
        "print(radians(180))"
      ],
      "execution_count": 21,
      "outputs": [
        {
          "output_type": "stream",
          "text": [
            "3.0\n",
            "3.141592653589793\n"
          ],
          "name": "stdout"
        }
      ]
    },
    {
      "cell_type": "code",
      "metadata": {
        "colab": {
          "base_uri": "https://localhost:8080/"
        },
        "id": "ZbBQIq7Wtl76",
        "outputId": "594e929e-a748-4116-9e27-b3d1f5461d1b"
      },
      "source": [
        "sin(radians(90))\r\n",
        "cos(radians(90))"
      ],
      "execution_count": 20,
      "outputs": [
        {
          "output_type": "execute_result",
          "data": {
            "text/plain": [
              "6.123233995736766e-17"
            ]
          },
          "metadata": {
            "tags": []
          },
          "execution_count": 20
        }
      ]
    },
    {
      "cell_type": "code",
      "metadata": {
        "colab": {
          "base_uri": "https://localhost:8080/"
        },
        "id": "mLpvJEHht5_B",
        "outputId": "da89468a-4d5e-4112-e1f3-9a1014ffabe8"
      },
      "source": [
        "sin(pi/2)\r\n",
        "pi"
      ],
      "execution_count": 24,
      "outputs": [
        {
          "output_type": "execute_result",
          "data": {
            "text/plain": [
              "3.141592653589793"
            ]
          },
          "metadata": {
            "tags": []
          },
          "execution_count": 24
        }
      ]
    },
    {
      "cell_type": "code",
      "metadata": {
        "id": "Nul9cCB2uQii"
      },
      "source": [
        "import random"
      ],
      "execution_count": 26,
      "outputs": []
    },
    {
      "cell_type": "code",
      "metadata": {
        "colab": {
          "base_uri": "https://localhost:8080/"
        },
        "id": "PwF-Lz20uUn5",
        "outputId": "3402c342-f17a-4fcc-e82f-e4b2006ebd0d"
      },
      "source": [
        "random.random()"
      ],
      "execution_count": 34,
      "outputs": [
        {
          "output_type": "execute_result",
          "data": {
            "text/plain": [
              "0.2380277713685801"
            ]
          },
          "metadata": {
            "tags": []
          },
          "execution_count": 34
        }
      ]
    },
    {
      "cell_type": "code",
      "metadata": {
        "colab": {
          "base_uri": "https://localhost:8080/"
        },
        "id": "ct0-oFfyulex",
        "outputId": "a8cf115a-4696-4351-bee2-3d0c3f79c9a3"
      },
      "source": [
        "# random.seed(1997)\r\n",
        "random.randint(1,10)"
      ],
      "execution_count": 49,
      "outputs": [
        {
          "output_type": "execute_result",
          "data": {
            "text/plain": [
              "2"
            ]
          },
          "metadata": {
            "tags": []
          },
          "execution_count": 49
        }
      ]
    },
    {
      "cell_type": "code",
      "metadata": {
        "id": "JncilxKivRqp",
        "outputId": "9481f9e0-6595-4203-a995-3b245d1c06c4",
        "colab": {
          "base_uri": "https://localhost:8080/"
        }
      },
      "source": [
        "random.seed(51)\r\n",
        "listA = [1,2,3,4,5,6,7,8,9,10]\r\n",
        "print(listA)\r\n",
        "random.shuffle(listA)\r\n",
        "print(listA)"
      ],
      "execution_count": 56,
      "outputs": [
        {
          "output_type": "stream",
          "text": [
            "[1, 2, 3, 4, 5, 6, 7, 8, 9, 10]\n",
            "[1, 10, 6, 8, 5, 7, 2, 3, 9, 4]\n"
          ],
          "name": "stdout"
        }
      ]
    }
  ]
}